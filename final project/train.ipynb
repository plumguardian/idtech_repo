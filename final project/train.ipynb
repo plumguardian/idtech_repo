{
 "cells": [
  {
   "cell_type": "markdown",
   "metadata": {
    "id": "tktvdabC18-s"
   },
   "source": [
    "\n",
    "# Convolutional Neural Networks for Object Localization"
   ]
  },
  {
   "cell_type": "markdown",
   "metadata": {
    "id": "niJxVteL18-y"
   },
   "source": [
    "In this notebook we will learn how to implement a convolutional neural network (CNN) regressor to localize digits of the MNIST dataset. We will use the Pytorch library for the implementation, compilation and training of the model.\n",
    "\n",
    "The input to our model is a $64 \\times 64$ image with a MNIST digit at any location, and the output of the model are four real numbers that define a bounding box (x, y, width, and height) around the digit."
   ]
  },
  {
   "cell_type": "markdown",
   "metadata": {
    "id": "921un8bjnFV4"
   },
   "source": [
    "<table>\n",
    "    <tr>\n",
    "        <td><img src=\"data:image/png;base64, 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\"></td>\n",
    "        <td><span style=\"font-size:36px\">&#10142;</span></td>\n",
    "        <td><img src=\"data:image/png;base64, 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\"></td>\n",
    "    </tr>\n",
    "</table>"
   ]
  },
  {
   "cell_type": "markdown",
   "metadata": {
    "id": "exltrVHJnFV8"
   },
   "source": [
    "### Import necessary modules"
   ]
  },
  {
   "cell_type": "code",
   "execution_count": 1,
   "metadata": {
    "id": "azXeT9WlnFWA"
   },
   "outputs": [
    {
     "name": "stdout",
     "output_type": "stream",
     "text": [
      "cuda\n"
     ]
    }
   ],
   "source": [
    "from __future__ import annotations # support for union type hinting before python 3.10\n",
    "\n",
    "import torch\n",
    "import torch.nn as nn\n",
    "import torch.nn.functional as F\n",
    "import torch.optim as optim\n",
    "from torch.utils.data import Dataset, DataLoader\n",
    "from torchvision import datasets, transforms\n",
    "from torch.optim.lr_scheduler import StepLR\n",
    "from torch import save\n",
    "\n",
    "from typing import Callable\n",
    "\n",
    "import numpy as np\n",
    "import matplotlib.pyplot as plt\n",
    "from torchinfo import summary\n",
    "try:\n",
    "    from torchview import draw_graph\n",
    "except ModuleNotFoundError:\n",
    "    from torchviz import make_dot\n",
    "\n",
    "import graphviz\n",
    "graphviz.set_jupyter_format('png')\n",
    "import os\n",
    "\n",
    "import wx\n",
    "\n",
    "# setup cuda\n",
    "use_cuda = torch.cuda.is_available()\n",
    "device = torch.device(\"cuda\" if use_cuda else \"cpu\")\n",
    "print(device)"
   ]
  },
  {
   "cell_type": "code",
   "execution_count": 2,
   "metadata": {},
   "outputs": [
    {
     "name": "stderr",
     "output_type": "stream",
     "text": [
      "<cell>22: \u001b[1m\u001b[91merror:\u001b[0m Name \u001b[0m\u001b[1m\"fileDialog\"\u001b[0m already defined on line 21  \u001b[0m\u001b[93m[no-redef]\u001b[0m\n",
      "<cell>30: \u001b[1m\u001b[91merror:\u001b[0m Name \u001b[0m\u001b[1m\"path\"\u001b[0m already defined on line 28  \u001b[0m\u001b[93m[no-redef]\u001b[0m\n",
      "<cell>50: \u001b[1m\u001b[91merror:\u001b[0m Name \u001b[0m\u001b[1m\"fileDialog\"\u001b[0m already defined on line 49  \u001b[0m\u001b[93m[no-redef]\u001b[0m\n"
     ]
    }
   ],
   "source": [
    "def get_file_path(wildcard: str, message: str = wx.FileSelectorPromptStr, multipleFiles: bool = False) -> str | list[str] | None:\n",
    "    \"\"\"\n",
    "    Opens a file dialog and allows user to select a file.\n",
    "\n",
    "    Args:\n",
    "        wildcard (str): e.g. \"*.png\" for 1 file extention or \"pictures (*.jpeg,*.png)|*.jpeg;*.png\" for multiple.\n",
    "        message (str, optional): Title of the window. Defaults to wx.FileSelectorPromptStr.\n",
    "        multipleFiles (bool, optional): Allows selecting more than 1 file. Defaults to False.\n",
    "\n",
    "    Returns:\n",
    "        str | list[str] | None: Returns path of selected file, list of paths for selected files, or None if no files selected.\n",
    "    \"\"\"  \n",
    "\n",
    "    app = wx.App()\n",
    "    \n",
    "    if multipleFiles:\n",
    "        style = wx.FD_OPEN | wx.FD_FILE_MUST_EXIST | wx.FD_MULTIPLE\n",
    "    else:\n",
    "        style = wx.FD_OPEN | wx.FD_FILE_MUST_EXIST\n",
    "\n",
    "    with wx.FileDialog(None, message, wildcard=wildcard, style=style) as fileDialog:\n",
    "        fileDialog: wx.FileDialog\n",
    "\n",
    "        if fileDialog.ShowModal() == wx.ID_CANCEL:\n",
    "            return None\n",
    "\n",
    "        try:\n",
    "            path: str | list[str] | None = fileDialog.GetPath()\n",
    "        except:\n",
    "            path: str | list[str] | None  = fileDialog.GetPaths()\n",
    "\n",
    "        return path\n",
    "\n",
    "def save_file(wildcard: str, message: str = wx.FileSelectorPromptStr, defaultFileName: str = wx.EmptyString) -> str | None:\n",
    "    \"\"\"\n",
    "    Prompts a user to save a file.\n",
    "\n",
    "    Args:\n",
    "        wildcard (str): e.g. \"*.png\" for 1 file extention or \"pictures (*.jpeg,*.png)|*.jpeg;*.png\" for multiple.\n",
    "        message (str, optional): Title of the window. Defaults to wx.FileSelectorPromptStr.\n",
    "        defaultFileName (str, optional): What to put in the file name text box. Defaults to wx.EmptyString.\n",
    "\n",
    "    Returns:\n",
    "        str | None: Returns path to where the user would like to save, or None if the user canceled.\n",
    "    \"\"\"    \n",
    "    \n",
    "    app = wx.App()\n",
    "    \n",
    "    with wx.FileDialog(None, message, defaultFile=defaultFileName, wildcard=wildcard, style=wx.FD_SAVE | wx.FD_OVERWRITE_PROMPT) as fileDialog:\n",
    "        fileDialog: wx.FileDialog\n",
    "\n",
    "        if fileDialog.ShowModal() == wx.ID_CANCEL:\n",
    "            return None\n",
    "\n",
    "        return fileDialog.GetPath()"
   ]
  },
  {
   "cell_type": "markdown",
   "metadata": {
    "id": "xJG-7PGF18-0"
   },
   "source": [
    "## Create a custom dataset"
   ]
  },
  {
   "cell_type": "markdown",
   "metadata": {
    "id": "DkhNGoQtqVHJ"
   },
   "source": [
    "Backup downloader"
   ]
  },
  {
   "cell_type": "code",
   "execution_count": 3,
   "metadata": {
    "colab": {
     "base_uri": "https://localhost:8080/"
    },
    "id": "dpM9U6eUpjPJ",
    "outputId": "476210a3-62b0-47a1-97eb-34692eb6f54d"
   },
   "outputs": [],
   "source": [
    "# !wget www.di.ens.fr/~lelarge/MNIST.tar.gz\n",
    "# !tar -zxvf MNIST.tar.gz"
   ]
  },
  {
   "cell_type": "code",
   "execution_count": 4,
   "metadata": {
    "id": "RhvETBzY18-2"
   },
   "outputs": [],
   "source": [
    "class MNISTlocalizationDataset(Dataset):\n",
    "    \"\"\"MNIST localization toy dataset.\"\"\"\n",
    "\n",
    "    def __init__(self, imgsize: tuple[int,int] = (64,64), train: bool = True, transform: (Callable[[torch.Tensor],torch.Tensor] | transforms.Compose | None) = None):\n",
    "        \"\"\"\n",
    "        MNIST dataset class __init__\n",
    "\n",
    "        Args:\n",
    "            imgsize (tuple, optional): The size of generated images, both width and height must be > 48. Defaults to (64,64).\n",
    "            train (bool, optional): If True, creates dataset from MNIST training samples, otherwise from test. Defaults to True.\n",
    "            transform (Callable[[torch.Tensor],torch.Tensor]  |  transforms.Compose  |  None, optional): Optional transform to be applied on a sample. Defaults to None.\n",
    "        \"\"\"\n",
    "        assert len(imgsize)==2 and imgsize[0] > 48 and imgsize[1] > 48\n",
    "        self.imgsize = imgsize\n",
    "        self.transform = transform\n",
    "        self.mnist = datasets.MNIST('./', train=train, download=True)\n",
    "\n",
    "    def __len__(self):\n",
    "        \"\"\"\n",
    "        Execute like: len(MNISTlocalizationDataset)\n",
    "        \"\"\"        \n",
    "        return self.mnist.data.shape[0]\n",
    "    \n",
    "    def __getitem__(self, idx) -> dict[str, torch.Tensor | np.ndarray[np.float32,np.dtypes.Float32DType]]:\n",
    "        \"\"\"\n",
    "        Execute like: MNISTlocalizationDataset[idx]\n",
    "        \"\"\"        \n",
    "        if torch.is_tensor(idx):\n",
    "            idx = idx.tolist()\n",
    "        image = torch.zeros(self.imgsize)\n",
    "        digit_img = self.mnist.data[idx,:,:]\n",
    "\n",
    "        # copy the MNIST digit into a random location\n",
    "        x_offset = np.random.randint(0,self.imgsize[1]-28)\n",
    "        y_offset = np.random.randint(0,self.imgsize[0]-28)\n",
    "        image[y_offset:y_offset+28,x_offset:x_offset+28] = digit_img\n",
    "        image = image.reshape((1,)+self.imgsize) # must be a tensor image of size (C, H, W)\n",
    "        \n",
    "        if self.transform:\n",
    "            image = self.transform(image)\n",
    "\n",
    "        assert isinstance(image, torch.Tensor)\n",
    "            \n",
    "        # get label of sample\n",
    "        label = self.mnist.targets[idx]\n",
    "        assert isinstance(label, torch.Tensor)\n",
    "\n",
    "        # normalize the target values so they are real numbers from 0. to 1.\n",
    "        bbox = np.array([x_offset / self.imgsize[1], y_offset / self.imgsize[0], \n",
    "                         28. / self.imgsize[0], 28. / self.imgsize[1]], dtype=np.float32)\n",
    "        \n",
    "        sample: dict[str, torch.Tensor | np.ndarray[np.float32,np.dtypes.Float32DType]] = {'image': image, 'bbox': bbox, 'label': label}\n",
    "        return sample"
   ]
  },
  {
   "cell_type": "markdown",
   "metadata": {
    "id": "kE7Blf93nFWM"
   },
   "source": [
    "Now we can create the necessary Dataset and DataLoader objects as follows."
   ]
  },
  {
   "cell_type": "code",
   "execution_count": 5,
   "metadata": {
    "id": "gfgAf0yunFWN"
   },
   "outputs": [
    {
     "name": "stderr",
     "output_type": "stream",
     "text": [
      "<cell>9: \u001b[1m\u001b[91merror:\u001b[0m Argument 2 to \u001b[0m\u001b[1m\"DataLoader\"\u001b[0m has incompatible type \u001b[0m\u001b[1m\"**dict[str, int]\"\u001b[0m; expected \u001b[0m\u001b[1m\"bool\"\u001b[0m  \u001b[0m\u001b[93m[arg-type]\u001b[0m\n",
      "<cell>9: \u001b[1m\u001b[91merror:\u001b[0m Argument 2 to \u001b[0m\u001b[1m\"DataLoader\"\u001b[0m has incompatible type \u001b[0m\u001b[1m\"**dict[str, int]\"\u001b[0m; expected \u001b[0m\u001b[1m\"Optional[Sampler[Any]]\"\u001b[0m  \u001b[0m\u001b[93m[arg-type]\u001b[0m\n",
      "<cell>9: \u001b[1m\u001b[91merror:\u001b[0m Argument 2 to \u001b[0m\u001b[1m\"DataLoader\"\u001b[0m has incompatible type \u001b[0m\u001b[1m\"**dict[str, int]\"\u001b[0m; expected \u001b[0m\u001b[1m\"Optional[Sampler[Sequence[Any]]]\"\u001b[0m  \u001b[0m\u001b[93m[arg-type]\u001b[0m\n",
      "<cell>9: \u001b[1m\u001b[91merror:\u001b[0m Argument 2 to \u001b[0m\u001b[1m\"DataLoader\"\u001b[0m has incompatible type \u001b[0m\u001b[1m\"**dict[str, int]\"\u001b[0m; expected \u001b[0m\u001b[1m\"Optional[Callable[[list[Any]], Any]]\"\u001b[0m  \u001b[0m\u001b[93m[arg-type]\u001b[0m\n",
      "<cell>9: \u001b[1m\u001b[91merror:\u001b[0m Argument 2 to \u001b[0m\u001b[1m\"DataLoader\"\u001b[0m has incompatible type \u001b[0m\u001b[1m\"**dict[str, int]\"\u001b[0m; expected \u001b[0m\u001b[1m\"Optional[Callable[[int], None]]\"\u001b[0m  \u001b[0m\u001b[93m[arg-type]\u001b[0m\n",
      "<cell>10: \u001b[1m\u001b[91merror:\u001b[0m Argument 2 to \u001b[0m\u001b[1m\"DataLoader\"\u001b[0m has incompatible type \u001b[0m\u001b[1m\"**dict[str, int]\"\u001b[0m; expected \u001b[0m\u001b[1m\"bool\"\u001b[0m  \u001b[0m\u001b[93m[arg-type]\u001b[0m\n",
      "<cell>10: \u001b[1m\u001b[91merror:\u001b[0m Argument 2 to \u001b[0m\u001b[1m\"DataLoader\"\u001b[0m has incompatible type \u001b[0m\u001b[1m\"**dict[str, int]\"\u001b[0m; expected \u001b[0m\u001b[1m\"Optional[Sampler[Any]]\"\u001b[0m  \u001b[0m\u001b[93m[arg-type]\u001b[0m\n",
      "<cell>10: \u001b[1m\u001b[91merror:\u001b[0m Argument 2 to \u001b[0m\u001b[1m\"DataLoader\"\u001b[0m has incompatible type \u001b[0m\u001b[1m\"**dict[str, int]\"\u001b[0m; expected \u001b[0m\u001b[1m\"Optional[Sampler[Sequence[Any]]]\"\u001b[0m  \u001b[0m\u001b[93m[arg-type]\u001b[0m\n",
      "<cell>10: \u001b[1m\u001b[91merror:\u001b[0m Argument 2 to \u001b[0m\u001b[1m\"DataLoader\"\u001b[0m has incompatible type \u001b[0m\u001b[1m\"**dict[str, int]\"\u001b[0m; expected \u001b[0m\u001b[1m\"Optional[Callable[[list[Any]], Any]]\"\u001b[0m  \u001b[0m\u001b[93m[arg-type]\u001b[0m\n",
      "<cell>10: \u001b[1m\u001b[91merror:\u001b[0m Argument 2 to \u001b[0m\u001b[1m\"DataLoader\"\u001b[0m has incompatible type \u001b[0m\u001b[1m\"**dict[str, int]\"\u001b[0m; expected \u001b[0m\u001b[1m\"Optional[Callable[[int], None]]\"\u001b[0m  \u001b[0m\u001b[93m[arg-type]\u001b[0m\n"
     ]
    }
   ],
   "source": [
    "transform = transforms.Compose([transforms.Normalize((0.1307,), (0.3081,))])\n",
    "\n",
    "dataset1 = MNISTlocalizationDataset((64,64), train=True, transform=transform)\n",
    "dataset2 = MNISTlocalizationDataset((64,64), train=False, transform=transform)\n",
    "\n",
    "train_kwargs = {'batch_size': 32, 'shuffle': True,  'num_workers': 0,  'pin_memory': True}\n",
    "test_kwargs  = {'batch_size': 32, 'shuffle': False, 'num_workers': 0,  'pin_memory': True}\n",
    "\n",
    "train_loader = DataLoader(dataset1, **train_kwargs)\n",
    "test_loader = DataLoader(dataset2, **test_kwargs)"
   ]
  },
  {
   "cell_type": "markdown",
   "metadata": {
    "id": "mS-cmCLP18-2"
   },
   "source": [
    "### Visualize some generated samples"
   ]
  },
  {
   "cell_type": "code",
   "execution_count": 6,
   "metadata": {
    "colab": {
     "base_uri": "https://localhost:8080/",
     "height": 206
    },
    "id": "4aAtRuL-18-2",
    "outputId": "06ddade0-cac7-47bb-94a6-3d29a916f33a"
   },
   "outputs": [
    {
     "name": "stderr",
     "output_type": "stream",
     "text": [
      "<cell>34: \u001b[1m\u001b[91merror:\u001b[0m Invalid \u001b[0m\u001b[1m\"type: ignore\"\u001b[0m comment  \u001b[0m\u001b[93m[syntax]\u001b[0m\n",
      "<cell>34: \u001b[1m\u001b[91merror:\u001b[0m Argument 1 to \u001b[0m\u001b[1m\"show_bbox\"\u001b[0m has incompatible type \u001b[0m\u001b[1m\"**dict[str, Union[Tensor, ndarray[floating[_32Bit], dtype[floating[_32Bit]]]]]\"\u001b[0m; expected \u001b[0m\u001b[1m\"Tensor\"\u001b[0m  \u001b[0m\u001b[93m[arg-type]\u001b[0m\n",
      "<cell>34: \u001b[1m\u001b[91merror:\u001b[0m Argument 1 to \u001b[0m\u001b[1m\"show_bbox\"\u001b[0m has incompatible type \u001b[0m\u001b[1m\"**dict[str, Union[Tensor, ndarray[floating[_32Bit], dtype[floating[_32Bit]]]]]\"\u001b[0m; expected \u001b[0m\u001b[1m\"ndarray[floating[_32Bit], dtype[floating[_32Bit]]]\"\u001b[0m  \u001b[0m\u001b[93m[arg-type]\u001b[0m\n",
      "<cell>34: \u001b[1m\u001b[91merror:\u001b[0m Argument 1 to \u001b[0m\u001b[1m\"show_bbox\"\u001b[0m has incompatible type \u001b[0m\u001b[1m\"**dict[str, Union[Tensor, ndarray[floating[_32Bit], dtype[floating[_32Bit]]]]]\"\u001b[0m; expected \u001b[0m\u001b[1m\"Optional[ndarray[floating[_32Bit], dtype[floating[_32Bit]]]]\"\u001b[0m  \u001b[0m\u001b[93m[arg-type]\u001b[0m\n"
     ]
    },
    {
     "name": "stdout",
     "output_type": "stream",
     "text": [
      "0 torch.Size([1, 64, 64]) (4,)\n",
      "1 torch.Size([1, 64, 64]) (4,)\n",
      "2 torch.Size([1, 64, 64]) (4,)\n",
      "3 torch.Size([1, 64, 64]) (4,)\n"
     ]
    },
    {
     "data": {
      "image/png": "[encoded data removed]",
      "text/plain": [
       "<Figure size 640x480 with 4 Axes>"
      ]
     },
     "metadata": {},
     "output_type": "display_data"
    }
   ],
   "source": [
    "def show_bbox(image: torch.Tensor, bbox: np.ndarray[np.float32,np.dtypes.Float32DType], pred: (np.ndarray[np.float32,np.dtypes.Float32DType] | None) = None,**_) -> None: #NOTE: **_ ignores extra args\n",
    "    \"\"\"\n",
    "    Shows bbox of an image. Also shows predicted bbox if supplied.\n",
    "\n",
    "    Args:\n",
    "        image (torch.Tensor): The image\n",
    "        bbox (np.ndarray[np.float32,np.dtypes.Float32DType]): The image bbox\n",
    "        pred (np.ndarray[np.float32,np.dtypes.Float32DType]  |  None, optional): The predicted bbox. Defaults to None.\n",
    "        **_: Discards extra arguments - Ignore this\n",
    "    \"\"\"\n",
    "    image = image.squeeze()\n",
    "    plt.imshow(image)\n",
    "\n",
    "    # plot the ground truth bounding box\n",
    "    imgsize = image.shape\n",
    "    bbox *= [imgsize[1],imgsize[0],imgsize[0],imgsize[1]]\n",
    "    plt.plot([bbox[0],bbox[0]+bbox[3],bbox[0]+bbox[3],bbox[0],bbox[0]],\n",
    "             [bbox[1],bbox[1],bbox[1]+bbox[2],bbox[1]+bbox[2],bbox[1]], c='r')\n",
    "\n",
    "    if pred is not None: \n",
    "        # plot the predicted bounding box (if provided)\n",
    "        pred *= [imgsize[1],imgsize[0],imgsize[0],imgsize[1]]\n",
    "        plt.plot([pred[0],pred[0]+pred[3],pred[0]+pred[3],pred[0],pred[0]],\n",
    "                 [pred[1],pred[1],pred[1]+pred[2],pred[1]+pred[2],pred[1]], c='b')\n",
    "    \n",
    "fig = plt.figure()\n",
    "for i in range(len(dataset1)):\n",
    "    sample = dataset1[i]\n",
    "    print(i, sample['image'].shape, sample['bbox'].shape)\n",
    "    ax = plt.subplot(1, 4, i + 1)\n",
    "    plt.tight_layout()\n",
    "    ax.set_title(f\"Sample #{i} \\n Label{sample['label']}\")\n",
    "    ax.axis('off')\n",
    "    show_bbox(**sample) # type: ignore can't differentiate arg types\n",
    "\n",
    "    if i == 3:\n",
    "        plt.show()\n",
    "        break"
   ]
  },
  {
   "cell_type": "code",
   "execution_count": 7,
   "metadata": {
    "colab": {
     "base_uri": "https://localhost:8080/"
    },
    "id": "aszWIV0m18-5",
    "outputId": "93a8b2b8-fe93-43a1-9ce2-e1c05e883de1"
   },
   "outputs": [
    {
     "name": "stdout",
     "output_type": "stream",
     "text": [
      "Size of training data: 60000\n",
      "Size of test data: 10000\n"
     ]
    }
   ],
   "source": [
    "# check the size of the dataset\n",
    "print(\"Size of training data: {}\".format(len(dataset1)))\n",
    "print(\"Size of test data: {}\".format(len(dataset2)))"
   ]
  },
  {
   "cell_type": "markdown",
   "metadata": {
    "id": "gmOpSBhE18-3"
   },
   "source": [
    "We have 60,000 images for training and 10,000 for testing. The image size is $64 \\times 64$ pixels and they have only one channel (greyscale images)."
   ]
  },
  {
   "cell_type": "markdown",
   "metadata": {
    "id": "DyLPtyuE18-7"
   },
   "source": [
    "## Create the CNN regression model\n",
    "\n",
    "We will use a simple CNN model with two convolutional layers, one pooling layer, and two fully connected layers. We will use also Dropout to help regularizing the model. \n",
    "\n",
    "Notice that the output layer has four neurons with a `sigmoid` activation, so our model produces at its outputs four real numbers (x,y,width, and height)."
   ]
  },
  {
   "cell_type": "code",
   "execution_count": 8,
   "metadata": {
    "colab": {
     "base_uri": "https://localhost:8080/"
    },
    "id": "s7dNybnGphHF",
    "outputId": "8849104a-98ab-41f7-c1d3-7d4fd03d0b97"
   },
   "outputs": [
    {
     "data": {
      "text/plain": [
       "==========================================================================================\n",
       "Layer (type:depth-idx)                   Output Shape              Param #\n",
       "==========================================================================================\n",
       "Net                                      [32, 4]                   --\n",
       "├─Sequential: 1-1                        [32, 32]                  --\n",
       "│    └─Conv2d: 2-1                       [32, 8, 32, 32]           208\n",
       "│    └─ReLU: 2-2                         [32, 8, 32, 32]           --\n",
       "│    └─Conv2d: 2-3                       [32, 16, 16, 16]          1,168\n",
       "│    └─ReLU: 2-4                         [32, 16, 16, 16]          --\n",
       "│    └─Conv2d: 2-5                       [32, 32, 8, 8]            4,640\n",
       "│    └─ReLU: 2-6                         [32, 32, 8, 8]            --\n",
       "│    └─Conv2d: 2-7                       [32, 32, 4, 4]            9,248\n",
       "│    └─ReLU: 2-8                         [32, 32, 4, 4]            --\n",
       "│    └─AdaptiveAvgPool2d: 2-9            [32, 32, 1, 1]            --\n",
       "│    └─Flatten: 2-10                     [32, 32]                  --\n",
       "├─Sequential: 1-2                        [32, 4]                   --\n",
       "│    └─Linear: 2-11                      [32, 4]                   132\n",
       "│    └─Sigmoid: 2-12                     [32, 4]                   --\n",
       "├─Sequential: 1-3                        [32, 10]                  --\n",
       "│    └─Linear: 2-13                      [32, 10]                  330\n",
       "==========================================================================================\n",
       "Total params: 15,726\n",
       "Trainable params: 15,726\n",
       "Non-trainable params: 0\n",
       "Total mult-adds (M): 30.64\n",
       "==========================================================================================\n",
       "Input size (MB): 0.52\n",
       "Forward/backward pass size (MB): 3.80\n",
       "Params size (MB): 0.06\n",
       "Estimated Total Size (MB): 4.39\n",
       "=========================================================================================="
      ]
     },
     "execution_count": 8,
     "metadata": {},
     "output_type": "execute_result"
    }
   ],
   "source": [
    "class Net(nn.Module):\n",
    "    def __init__(self):\n",
    "        super(Net, self).__init__()\n",
    "        self.backbone = nn.Sequential(\n",
    "          nn.Conv2d( 1, 8, 5, padding=2,stride=2), nn.ReLU(), #14\n",
    "          nn.Conv2d( 8,16, 3, padding=1,stride=2), nn.ReLU(), # 7\n",
    "          nn.Conv2d(16,32, 3, padding=1,stride=2), nn.ReLU(), # 4\n",
    "          nn.Conv2d(32,32, 3, padding=1,stride=2), nn.ReLU(), # 2\n",
    "          nn.AdaptiveAvgPool2d(1),\n",
    "          nn.Flatten(),\n",
    "          # nn.Linear(32,4),\n",
    "          # nn.Sigmoid()\n",
    "          )\n",
    "        \n",
    "        self.bbox = nn.Sequential(nn.Linear(32,4), nn.Sigmoid())\n",
    "        self.label = nn.Sequential(nn.Linear(32, 10))\n",
    "\n",
    "    def forward(self, x): #NOTE: No type checking. Read pytorch docs.\n",
    "        features = self.backbone(x)\n",
    "        bbox = self.bbox(features)\n",
    "        label = self.label(features)\n",
    "        return bbox, label\n",
    "\n",
    "def get_model():\n",
    "    return Net()\n",
    "\n",
    "summary(get_model(),(32,1,64,64),device=\"cpu\")"
   ]
  },
  {
   "cell_type": "markdown",
   "metadata": {
    "id": "ndYgcQkW18-8"
   },
   "source": [
    "### Define the training method\n",
    "\n",
    "For training our CNN regression model we will use the L1 loss, which takes the mean element-wise absolute value difference.\n",
    "\n",
    "See <a href=\"https://pytorch.org/docs/stable/generated/torch.nn.L1Loss.html#torch.nn.L1Loss\">`torch.nn.L1Loss`</a> for details."
   ]
  },
  {
   "cell_type": "code",
   "execution_count": 9,
   "metadata": {
    "id": "ggil4ry9wmiP"
   },
   "outputs": [
    {
     "name": "stderr",
     "output_type": "stream",
     "text": [
      "<cell>22: \u001b[1m\u001b[91merror:\u001b[0m Name \u001b[0m\u001b[1m\"sample_batched\"\u001b[0m already defined on line 21  \u001b[0m\u001b[93m[no-redef]\u001b[0m\n",
      "<cell>46: \u001b[1m\u001b[91merror:\u001b[0m Invalid \u001b[0m\u001b[1m\"type: ignore\"\u001b[0m comment  \u001b[0m\u001b[93m[syntax]\u001b[0m\n",
      "<cell>47: \u001b[1m\u001b[91merror:\u001b[0m Invalid \u001b[0m\u001b[1m\"type: ignore\"\u001b[0m comment  \u001b[0m\u001b[93m[syntax]\u001b[0m\n"
     ]
    }
   ],
   "source": [
    "def train(model: Net, device: torch.device, train_loader: DataLoader, optimizer: optim.Optimizer, epoch: int, log_interval: int, scheduler: (optim.lr_scheduler._LRScheduler | None) = None) -> tuple[list[torch.Tensor], list[torch.Tensor], list[torch.Tensor]]:\n",
    "    \"\"\"\n",
    "    Trains a model (you need to call each epoch)\n",
    "\n",
    "    Args:\n",
    "        model (Net): The model to train\n",
    "        device (torch.device): The device to train with\n",
    "        train_loader (DataLoader): The train dataset loader\n",
    "        optimizer (optim.Optimizer): The optimizer\n",
    "        epoch (int): The current epoch\n",
    "        log_interval (int): The amount of batches before printing the status of training\n",
    "        scheduler (optim.lr_scheduler._LRScheduler  |  None, optional): The scheduler. Defaults to None.\n",
    "\n",
    "    Returns:\n",
    "        tuple[list[torch.Tensor], list[torch.Tensor], list[torch.Tensor]]: The loss_values, bbox_loss_values, and classification_loss_values respectively.\n",
    "    \"\"\"\n",
    "    model.train()\n",
    "    loss_values: list[torch.Tensor] = []\n",
    "    bbox_loss_values: list[torch.Tensor] = []\n",
    "    classification_loss_values: list[torch.Tensor] = []\n",
    "    for batch_idx, sample_batched in enumerate(train_loader):\n",
    "        sample_batched: dict[str, torch.Tensor]\n",
    "        data = sample_batched['image']\n",
    "        target = sample_batched['bbox']\n",
    "        label = sample_batched['label']\n",
    "        data, target, label = data.to(device), target.to(device), label.to(device)\n",
    "        output, label_pred = model(data)\n",
    "        output: torch.Tensor\n",
    "        label_pred: torch.Tensor\n",
    "\n",
    "        bbox_loss = F.l1_loss(output, target)\n",
    "        classification_loss = F.cross_entropy(label_pred, label)\n",
    "        # balance the bbox_loss and classification_loss (try out what combination works best)\n",
    "        loss = bbox_loss + 0.1*classification_loss\n",
    "        \n",
    "        loss.backward()\n",
    "        optimizer.step()\n",
    "        optimizer.zero_grad()\n",
    "\n",
    "        loss_values.append(loss)\n",
    "        bbox_loss_values.append(bbox_loss)\n",
    "        classification_loss_values.append(classification_loss)\n",
    "\n",
    "        if batch_idx % log_interval == 0:\n",
    "            print('Train Epoch: {} [{}/{} ({:.0f}%)]\\tLoss: {:.6f}'.format(\n",
    "                epoch, batch_idx * len(data), len(train_loader.dataset), # type: ignore because the dataset is not strictly set as MNIST, it dosen't know it has a __len__ function\n",
    "                100. * batch_idx / len(train_loader), loss.item()))  # type: ignore because of overload types\n",
    "        if scheduler is not None:\n",
    "            scheduler.step()\n",
    "    return loss_values, bbox_loss_values, classification_loss_values"
   ]
  },
  {
   "cell_type": "markdown",
   "metadata": {
    "id": "oOvIRgNG18-8"
   },
   "source": [
    "### Train the model"
   ]
  },
  {
   "cell_type": "code",
   "execution_count": 10,
   "metadata": {
    "colab": {
     "base_uri": "https://localhost:8080/"
    },
    "id": "7yGqDf0w18-9",
    "outputId": "5944def7-e15b-4fc0-bfdc-27968e26c70f"
   },
   "outputs": [
    {
     "name": "stderr",
     "output_type": "stream",
     "text": [
      "<cell>7: \u001b[1m\u001b[91merror:\u001b[0m Invalid \u001b[0m\u001b[1m\"type: ignore\"\u001b[0m comment  \u001b[0m\u001b[93m[syntax]\u001b[0m\n",
      "<cell>7: \u001b[1m\u001b[91merror:\u001b[0m Module has no attribute \u001b[0m\u001b[1m\"OneCycleLR\"\u001b[0m  \u001b[0m\u001b[93m[attr-defined]\u001b[0m\n"
     ]
    },
    {
     "name": "stdout",
     "output_type": "stream",
     "text": [
      "Train Epoch: 1 [0/60000 (0%)]\tLoss: 0.443115\n",
      "Train Epoch: 1 [3200/60000 (5%)]\tLoss: 0.297555\n",
      "Train Epoch: 1 [6400/60000 (11%)]\tLoss: 0.277189\n",
      "Train Epoch: 1 [9600/60000 (16%)]\tLoss: 0.268316\n",
      "Train Epoch: 1 [12800/60000 (21%)]\tLoss: 0.264505\n",
      "Train Epoch: 1 [16000/60000 (27%)]\tLoss: 0.232273\n",
      "Train Epoch: 1 [19200/60000 (32%)]\tLoss: 0.193039\n",
      "Train Epoch: 1 [22400/60000 (37%)]\tLoss: 0.187013\n",
      "Train Epoch: 1 [25600/60000 (43%)]\tLoss: 0.155592\n",
      "Train Epoch: 1 [28800/60000 (48%)]\tLoss: 0.142276\n",
      "Train Epoch: 1 [32000/60000 (53%)]\tLoss: 0.113328\n",
      "Train Epoch: 1 [35200/60000 (59%)]\tLoss: 0.165577\n",
      "Train Epoch: 1 [38400/60000 (64%)]\tLoss: 0.116602\n",
      "Train Epoch: 1 [41600/60000 (69%)]\tLoss: 0.104379\n",
      "Train Epoch: 1 [44800/60000 (75%)]\tLoss: 0.121577\n",
      "Train Epoch: 1 [48000/60000 (80%)]\tLoss: 0.086414\n",
      "Train Epoch: 1 [51200/60000 (85%)]\tLoss: 0.109479\n",
      "Train Epoch: 1 [54400/60000 (91%)]\tLoss: 0.107037\n",
      "Train Epoch: 1 [57600/60000 (96%)]\tLoss: 0.102096\n",
      "Train Epoch: 2 [0/60000 (0%)]\tLoss: 0.104477\n",
      "Train Epoch: 2 [3200/60000 (5%)]\tLoss: 0.068356\n",
      "Train Epoch: 2 [6400/60000 (11%)]\tLoss: 0.056839\n",
      "Train Epoch: 2 [9600/60000 (16%)]\tLoss: 0.073447\n",
      "Train Epoch: 2 [12800/60000 (21%)]\tLoss: 0.083169\n",
      "Train Epoch: 2 [16000/60000 (27%)]\tLoss: 0.051958\n",
      "Train Epoch: 2 [19200/60000 (32%)]\tLoss: 0.051460\n",
      "Train Epoch: 2 [22400/60000 (37%)]\tLoss: 0.036624\n",
      "Train Epoch: 2 [25600/60000 (43%)]\tLoss: 0.063825\n",
      "Train Epoch: 2 [28800/60000 (48%)]\tLoss: 0.064149\n",
      "Train Epoch: 2 [32000/60000 (53%)]\tLoss: 0.052223\n",
      "Train Epoch: 2 [35200/60000 (59%)]\tLoss: 0.034600\n",
      "Train Epoch: 2 [38400/60000 (64%)]\tLoss: 0.037900\n",
      "Train Epoch: 2 [41600/60000 (69%)]\tLoss: 0.032719\n",
      "Train Epoch: 2 [44800/60000 (75%)]\tLoss: 0.041153\n",
      "Train Epoch: 2 [48000/60000 (80%)]\tLoss: 0.045240\n",
      "Train Epoch: 2 [51200/60000 (85%)]\tLoss: 0.032763\n",
      "Train Epoch: 2 [54400/60000 (91%)]\tLoss: 0.064839\n",
      "Train Epoch: 2 [57600/60000 (96%)]\tLoss: 0.027354\n",
      "Train Epoch: 3 [0/60000 (0%)]\tLoss: 0.061707\n",
      "Train Epoch: 3 [3200/60000 (5%)]\tLoss: 0.048247\n",
      "Train Epoch: 3 [6400/60000 (11%)]\tLoss: 0.022337\n",
      "Train Epoch: 3 [9600/60000 (16%)]\tLoss: 0.078927\n",
      "Train Epoch: 3 [12800/60000 (21%)]\tLoss: 0.066509\n",
      "Train Epoch: 3 [16000/60000 (27%)]\tLoss: 0.035101\n",
      "Train Epoch: 3 [19200/60000 (32%)]\tLoss: 0.047912\n",
      "Train Epoch: 3 [22400/60000 (37%)]\tLoss: 0.031963\n",
      "Train Epoch: 3 [25600/60000 (43%)]\tLoss: 0.028755\n",
      "Train Epoch: 3 [28800/60000 (48%)]\tLoss: 0.067127\n",
      "Train Epoch: 3 [32000/60000 (53%)]\tLoss: 0.067891\n",
      "Train Epoch: 3 [35200/60000 (59%)]\tLoss: 0.042274\n",
      "Train Epoch: 3 [38400/60000 (64%)]\tLoss: 0.025719\n",
      "Train Epoch: 3 [41600/60000 (69%)]\tLoss: 0.045658\n",
      "Train Epoch: 3 [44800/60000 (75%)]\tLoss: 0.046324\n",
      "Train Epoch: 3 [48000/60000 (80%)]\tLoss: 0.032385\n",
      "Train Epoch: 3 [51200/60000 (85%)]\tLoss: 0.031769\n",
      "Train Epoch: 3 [54400/60000 (91%)]\tLoss: 0.033380\n",
      "Train Epoch: 3 [57600/60000 (96%)]\tLoss: 0.034331\n",
      "Train Epoch: 4 [0/60000 (0%)]\tLoss: 0.032176\n",
      "Train Epoch: 4 [3200/60000 (5%)]\tLoss: 0.037038\n",
      "Train Epoch: 4 [6400/60000 (11%)]\tLoss: 0.029298\n",
      "Train Epoch: 4 [9600/60000 (16%)]\tLoss: 0.029017\n",
      "Train Epoch: 4 [12800/60000 (21%)]\tLoss: 0.041526\n",
      "Train Epoch: 4 [16000/60000 (27%)]\tLoss: 0.054947\n",
      "Train Epoch: 4 [19200/60000 (32%)]\tLoss: 0.037399\n",
      "Train Epoch: 4 [22400/60000 (37%)]\tLoss: 0.035889\n",
      "Train Epoch: 4 [25600/60000 (43%)]\tLoss: 0.049117\n",
      "Train Epoch: 4 [28800/60000 (48%)]\tLoss: 0.030821\n",
      "Train Epoch: 4 [32000/60000 (53%)]\tLoss: 0.030899\n",
      "Train Epoch: 4 [35200/60000 (59%)]\tLoss: 0.019717\n",
      "Train Epoch: 4 [38400/60000 (64%)]\tLoss: 0.017919\n",
      "Train Epoch: 4 [41600/60000 (69%)]\tLoss: 0.022781\n",
      "Train Epoch: 4 [44800/60000 (75%)]\tLoss: 0.030144\n",
      "Train Epoch: 4 [48000/60000 (80%)]\tLoss: 0.058027\n",
      "Train Epoch: 4 [51200/60000 (85%)]\tLoss: 0.022851\n",
      "Train Epoch: 4 [54400/60000 (91%)]\tLoss: 0.062617\n",
      "Train Epoch: 4 [57600/60000 (96%)]\tLoss: 0.025041\n",
      "Train Epoch: 5 [0/60000 (0%)]\tLoss: 0.026219\n",
      "Train Epoch: 5 [3200/60000 (5%)]\tLoss: 0.019243\n",
      "Train Epoch: 5 [6400/60000 (11%)]\tLoss: 0.036439\n",
      "Train Epoch: 5 [9600/60000 (16%)]\tLoss: 0.061511\n",
      "Train Epoch: 5 [12800/60000 (21%)]\tLoss: 0.053632\n",
      "Train Epoch: 5 [16000/60000 (27%)]\tLoss: 0.062315\n",
      "Train Epoch: 5 [19200/60000 (32%)]\tLoss: 0.022745\n",
      "Train Epoch: 5 [22400/60000 (37%)]\tLoss: 0.052593\n",
      "Train Epoch: 5 [25600/60000 (43%)]\tLoss: 0.055019\n",
      "Train Epoch: 5 [28800/60000 (48%)]\tLoss: 0.047816\n",
      "Train Epoch: 5 [32000/60000 (53%)]\tLoss: 0.052102\n",
      "Train Epoch: 5 [35200/60000 (59%)]\tLoss: 0.023089\n",
      "Train Epoch: 5 [38400/60000 (64%)]\tLoss: 0.048325\n",
      "Train Epoch: 5 [41600/60000 (69%)]\tLoss: 0.042626\n",
      "Train Epoch: 5 [44800/60000 (75%)]\tLoss: 0.039456\n",
      "Train Epoch: 5 [48000/60000 (80%)]\tLoss: 0.022281\n",
      "Train Epoch: 5 [51200/60000 (85%)]\tLoss: 0.042459\n",
      "Train Epoch: 5 [54400/60000 (91%)]\tLoss: 0.048460\n",
      "Train Epoch: 5 [57600/60000 (96%)]\tLoss: 0.045002\n",
      "Train Epoch: 6 [0/60000 (0%)]\tLoss: 0.028451\n",
      "Train Epoch: 6 [3200/60000 (5%)]\tLoss: 0.053986\n",
      "Train Epoch: 6 [6400/60000 (11%)]\tLoss: 0.028241\n",
      "Train Epoch: 6 [9600/60000 (16%)]\tLoss: 0.031258\n",
      "Train Epoch: 6 [12800/60000 (21%)]\tLoss: 0.048521\n",
      "Train Epoch: 6 [16000/60000 (27%)]\tLoss: 0.051090\n",
      "Train Epoch: 6 [19200/60000 (32%)]\tLoss: 0.055639\n",
      "Train Epoch: 6 [22400/60000 (37%)]\tLoss: 0.028677\n",
      "Train Epoch: 6 [25600/60000 (43%)]\tLoss: 0.061331\n",
      "Train Epoch: 6 [28800/60000 (48%)]\tLoss: 0.029504\n",
      "Train Epoch: 6 [32000/60000 (53%)]\tLoss: 0.067015\n",
      "Train Epoch: 6 [35200/60000 (59%)]\tLoss: 0.033903\n",
      "Train Epoch: 6 [38400/60000 (64%)]\tLoss: 0.059485\n",
      "Train Epoch: 6 [41600/60000 (69%)]\tLoss: 0.038717\n",
      "Train Epoch: 6 [44800/60000 (75%)]\tLoss: 0.053793\n",
      "Train Epoch: 6 [48000/60000 (80%)]\tLoss: 0.056596\n",
      "Train Epoch: 6 [51200/60000 (85%)]\tLoss: 0.050286\n",
      "Train Epoch: 6 [54400/60000 (91%)]\tLoss: 0.032035\n",
      "Train Epoch: 6 [57600/60000 (96%)]\tLoss: 0.064473\n",
      "Train Epoch: 7 [0/60000 (0%)]\tLoss: 0.066166\n",
      "Train Epoch: 7 [3200/60000 (5%)]\tLoss: 0.063412\n",
      "Train Epoch: 7 [6400/60000 (11%)]\tLoss: 0.078755\n",
      "Train Epoch: 7 [9600/60000 (16%)]\tLoss: 0.034330\n",
      "Train Epoch: 7 [12800/60000 (21%)]\tLoss: 0.050591\n",
      "Train Epoch: 7 [16000/60000 (27%)]\tLoss: 0.069590\n",
      "Train Epoch: 7 [19200/60000 (32%)]\tLoss: 0.067829\n",
      "Train Epoch: 7 [22400/60000 (37%)]\tLoss: 0.075879\n",
      "Train Epoch: 7 [25600/60000 (43%)]\tLoss: 0.087439\n",
      "Train Epoch: 7 [28800/60000 (48%)]\tLoss: 0.053612\n",
      "Train Epoch: 7 [32000/60000 (53%)]\tLoss: 0.034490\n",
      "Train Epoch: 7 [35200/60000 (59%)]\tLoss: 0.077537\n",
      "Train Epoch: 7 [38400/60000 (64%)]\tLoss: 0.058397\n",
      "Train Epoch: 7 [41600/60000 (69%)]\tLoss: 0.029662\n",
      "Train Epoch: 7 [44800/60000 (75%)]\tLoss: 0.061223\n",
      "Train Epoch: 7 [48000/60000 (80%)]\tLoss: 0.044768\n",
      "Train Epoch: 7 [51200/60000 (85%)]\tLoss: 0.039230\n",
      "Train Epoch: 7 [54400/60000 (91%)]\tLoss: 0.066585\n",
      "Train Epoch: 7 [57600/60000 (96%)]\tLoss: 0.032379\n",
      "Train Epoch: 8 [0/60000 (0%)]\tLoss: 0.058821\n",
      "Train Epoch: 8 [3200/60000 (5%)]\tLoss: 0.036943\n",
      "Train Epoch: 8 [6400/60000 (11%)]\tLoss: 0.056395\n",
      "Train Epoch: 8 [9600/60000 (16%)]\tLoss: 0.051978\n",
      "Train Epoch: 8 [12800/60000 (21%)]\tLoss: 0.043121\n",
      "Train Epoch: 8 [16000/60000 (27%)]\tLoss: 0.025193\n",
      "Train Epoch: 8 [19200/60000 (32%)]\tLoss: 0.056983\n",
      "Train Epoch: 8 [22400/60000 (37%)]\tLoss: 0.060278\n",
      "Train Epoch: 8 [25600/60000 (43%)]\tLoss: 0.046031\n",
      "Train Epoch: 8 [28800/60000 (48%)]\tLoss: 0.043317\n",
      "Train Epoch: 8 [32000/60000 (53%)]\tLoss: 0.119590\n",
      "Train Epoch: 8 [35200/60000 (59%)]\tLoss: 0.057886\n",
      "Train Epoch: 8 [38400/60000 (64%)]\tLoss: 0.095394\n",
      "Train Epoch: 8 [41600/60000 (69%)]\tLoss: 0.101709\n",
      "Train Epoch: 8 [44800/60000 (75%)]\tLoss: 0.048046\n",
      "Train Epoch: 8 [48000/60000 (80%)]\tLoss: 0.065402\n",
      "Train Epoch: 8 [51200/60000 (85%)]\tLoss: 0.057514\n",
      "Train Epoch: 8 [54400/60000 (91%)]\tLoss: 0.053517\n",
      "Train Epoch: 8 [57600/60000 (96%)]\tLoss: 0.093262\n",
      "Train Epoch: 9 [0/60000 (0%)]\tLoss: 0.036956\n",
      "Train Epoch: 9 [3200/60000 (5%)]\tLoss: 0.069864\n",
      "Train Epoch: 9 [6400/60000 (11%)]\tLoss: 0.070111\n",
      "Train Epoch: 9 [9600/60000 (16%)]\tLoss: 0.062183\n",
      "Train Epoch: 9 [12800/60000 (21%)]\tLoss: 0.066729\n",
      "Train Epoch: 9 [16000/60000 (27%)]\tLoss: 0.038938\n",
      "Train Epoch: 9 [19200/60000 (32%)]\tLoss: 0.041202\n",
      "Train Epoch: 9 [22400/60000 (37%)]\tLoss: 0.072009\n",
      "Train Epoch: 9 [25600/60000 (43%)]\tLoss: 0.060760\n",
      "Train Epoch: 9 [28800/60000 (48%)]\tLoss: 0.068913\n",
      "Train Epoch: 9 [32000/60000 (53%)]\tLoss: 0.043165\n",
      "Train Epoch: 9 [35200/60000 (59%)]\tLoss: 0.057989\n",
      "Train Epoch: 9 [38400/60000 (64%)]\tLoss: 0.070293\n",
      "Train Epoch: 9 [41600/60000 (69%)]\tLoss: 0.050388\n",
      "Train Epoch: 9 [44800/60000 (75%)]\tLoss: 0.060283\n",
      "Train Epoch: 9 [48000/60000 (80%)]\tLoss: 0.067265\n",
      "Train Epoch: 9 [51200/60000 (85%)]\tLoss: 0.058799\n",
      "Train Epoch: 9 [54400/60000 (91%)]\tLoss: 0.082176\n",
      "Train Epoch: 9 [57600/60000 (96%)]\tLoss: 0.090603\n",
      "Train Epoch: 10 [0/60000 (0%)]\tLoss: 0.085203\n",
      "Train Epoch: 10 [3200/60000 (5%)]\tLoss: 0.070194\n",
      "Train Epoch: 10 [6400/60000 (11%)]\tLoss: 0.052005\n",
      "Train Epoch: 10 [9600/60000 (16%)]\tLoss: 0.040922\n",
      "Train Epoch: 10 [12800/60000 (21%)]\tLoss: 0.053093\n",
      "Train Epoch: 10 [16000/60000 (27%)]\tLoss: 0.083302\n",
      "Train Epoch: 10 [19200/60000 (32%)]\tLoss: 0.056461\n",
      "Train Epoch: 10 [22400/60000 (37%)]\tLoss: 0.054194\n",
      "Train Epoch: 10 [25600/60000 (43%)]\tLoss: 0.060089\n",
      "Train Epoch: 10 [28800/60000 (48%)]\tLoss: 0.099841\n",
      "Train Epoch: 10 [32000/60000 (53%)]\tLoss: 0.076539\n",
      "Train Epoch: 10 [35200/60000 (59%)]\tLoss: 0.063354\n",
      "Train Epoch: 10 [38400/60000 (64%)]\tLoss: 0.032739\n",
      "Train Epoch: 10 [41600/60000 (69%)]\tLoss: 0.072707\n",
      "Train Epoch: 10 [44800/60000 (75%)]\tLoss: 0.044753\n",
      "Train Epoch: 10 [48000/60000 (80%)]\tLoss: 0.043635\n",
      "Train Epoch: 10 [51200/60000 (85%)]\tLoss: 0.061468\n",
      "Train Epoch: 10 [54400/60000 (91%)]\tLoss: 0.049427\n",
      "Train Epoch: 10 [57600/60000 (96%)]\tLoss: 0.068696\n",
      "Train Epoch: 11 [0/60000 (0%)]\tLoss: 0.056173\n",
      "Train Epoch: 11 [3200/60000 (5%)]\tLoss: 0.070073\n",
      "Train Epoch: 11 [6400/60000 (11%)]\tLoss: 0.090991\n",
      "Train Epoch: 11 [9600/60000 (16%)]\tLoss: 0.048460\n",
      "Train Epoch: 11 [12800/60000 (21%)]\tLoss: 0.083538\n",
      "Train Epoch: 11 [16000/60000 (27%)]\tLoss: 0.172537\n",
      "Train Epoch: 11 [19200/60000 (32%)]\tLoss: 0.038669\n",
      "Train Epoch: 11 [22400/60000 (37%)]\tLoss: 0.081457\n",
      "Train Epoch: 11 [25600/60000 (43%)]\tLoss: 0.047822\n",
      "Train Epoch: 11 [28800/60000 (48%)]\tLoss: 0.076854\n",
      "Train Epoch: 11 [32000/60000 (53%)]\tLoss: 0.047873\n",
      "Train Epoch: 11 [35200/60000 (59%)]\tLoss: 0.064114\n",
      "Train Epoch: 11 [38400/60000 (64%)]\tLoss: 0.048216\n",
      "Train Epoch: 11 [41600/60000 (69%)]\tLoss: 0.039393\n",
      "Train Epoch: 11 [44800/60000 (75%)]\tLoss: 0.068161\n",
      "Train Epoch: 11 [48000/60000 (80%)]\tLoss: 0.037299\n",
      "Train Epoch: 11 [51200/60000 (85%)]\tLoss: 0.046417\n",
      "Train Epoch: 11 [54400/60000 (91%)]\tLoss: 0.053017\n",
      "Train Epoch: 11 [57600/60000 (96%)]\tLoss: 0.034769\n",
      "Train Epoch: 12 [0/60000 (0%)]\tLoss: 0.074439\n",
      "Train Epoch: 12 [3200/60000 (5%)]\tLoss: 0.049154\n",
      "Train Epoch: 12 [6400/60000 (11%)]\tLoss: 0.046933\n",
      "Train Epoch: 12 [9600/60000 (16%)]\tLoss: 0.065963\n",
      "Train Epoch: 12 [12800/60000 (21%)]\tLoss: 0.089863\n",
      "Train Epoch: 12 [16000/60000 (27%)]\tLoss: 0.091030\n",
      "Train Epoch: 12 [19200/60000 (32%)]\tLoss: 0.038929\n",
      "Train Epoch: 12 [22400/60000 (37%)]\tLoss: 0.042971\n",
      "Train Epoch: 12 [25600/60000 (43%)]\tLoss: 0.057417\n",
      "Train Epoch: 12 [28800/60000 (48%)]\tLoss: 0.052448\n",
      "Train Epoch: 12 [32000/60000 (53%)]\tLoss: 0.052853\n",
      "Train Epoch: 12 [35200/60000 (59%)]\tLoss: 0.060341\n",
      "Train Epoch: 12 [38400/60000 (64%)]\tLoss: 0.080905\n",
      "Train Epoch: 12 [41600/60000 (69%)]\tLoss: 0.079489\n",
      "Train Epoch: 12 [44800/60000 (75%)]\tLoss: 0.074198\n",
      "Train Epoch: 12 [48000/60000 (80%)]\tLoss: 0.060277\n",
      "Train Epoch: 12 [51200/60000 (85%)]\tLoss: 0.050778\n",
      "Train Epoch: 12 [54400/60000 (91%)]\tLoss: 0.082977\n",
      "Train Epoch: 12 [57600/60000 (96%)]\tLoss: 0.066528\n",
      "Train Epoch: 13 [0/60000 (0%)]\tLoss: 0.053604\n",
      "Train Epoch: 13 [3200/60000 (5%)]\tLoss: 0.073065\n",
      "Train Epoch: 13 [6400/60000 (11%)]\tLoss: 0.045453\n",
      "Train Epoch: 13 [9600/60000 (16%)]\tLoss: 0.120198\n",
      "Train Epoch: 13 [12800/60000 (21%)]\tLoss: 0.058314\n",
      "Train Epoch: 13 [16000/60000 (27%)]\tLoss: 0.062624\n",
      "Train Epoch: 13 [19200/60000 (32%)]\tLoss: 0.072152\n",
      "Train Epoch: 13 [22400/60000 (37%)]\tLoss: 0.036285\n",
      "Train Epoch: 13 [25600/60000 (43%)]\tLoss: 0.048686\n",
      "Train Epoch: 13 [28800/60000 (48%)]\tLoss: 0.107469\n",
      "Train Epoch: 13 [32000/60000 (53%)]\tLoss: 0.051378\n",
      "Train Epoch: 13 [35200/60000 (59%)]\tLoss: 0.037671\n",
      "Train Epoch: 13 [38400/60000 (64%)]\tLoss: 0.078200\n",
      "Train Epoch: 13 [41600/60000 (69%)]\tLoss: 0.070567\n",
      "Train Epoch: 13 [44800/60000 (75%)]\tLoss: 0.049849\n",
      "Train Epoch: 13 [48000/60000 (80%)]\tLoss: 0.075683\n",
      "Train Epoch: 13 [51200/60000 (85%)]\tLoss: 0.079611\n",
      "Train Epoch: 13 [54400/60000 (91%)]\tLoss: 0.044426\n",
      "Train Epoch: 13 [57600/60000 (96%)]\tLoss: 0.046452\n",
      "Train Epoch: 14 [0/60000 (0%)]\tLoss: 0.041603\n",
      "Train Epoch: 14 [3200/60000 (5%)]\tLoss: 0.093275\n",
      "Train Epoch: 14 [6400/60000 (11%)]\tLoss: 0.075751\n",
      "Train Epoch: 14 [9600/60000 (16%)]\tLoss: 0.072045\n",
      "Train Epoch: 14 [12800/60000 (21%)]\tLoss: 0.050070\n",
      "Train Epoch: 14 [16000/60000 (27%)]\tLoss: 0.049190\n",
      "Train Epoch: 14 [19200/60000 (32%)]\tLoss: 0.053462\n",
      "Train Epoch: 14 [22400/60000 (37%)]\tLoss: 0.067881\n",
      "Train Epoch: 14 [25600/60000 (43%)]\tLoss: 0.055053\n",
      "Train Epoch: 14 [28800/60000 (48%)]\tLoss: 0.050650\n",
      "Train Epoch: 14 [32000/60000 (53%)]\tLoss: 0.046375\n",
      "Train Epoch: 14 [35200/60000 (59%)]\tLoss: 0.074894\n",
      "Train Epoch: 14 [38400/60000 (64%)]\tLoss: 0.047067\n",
      "Train Epoch: 14 [41600/60000 (69%)]\tLoss: 0.081805\n",
      "Train Epoch: 14 [44800/60000 (75%)]\tLoss: 0.041124\n",
      "Train Epoch: 14 [48000/60000 (80%)]\tLoss: 0.050444\n",
      "Train Epoch: 14 [51200/60000 (85%)]\tLoss: 0.042711\n",
      "Train Epoch: 14 [54400/60000 (91%)]\tLoss: 0.051364\n",
      "Train Epoch: 14 [57600/60000 (96%)]\tLoss: 0.037563\n",
      "Train Epoch: 15 [0/60000 (0%)]\tLoss: 0.069891\n",
      "Train Epoch: 15 [3200/60000 (5%)]\tLoss: 0.080903\n",
      "Train Epoch: 15 [6400/60000 (11%)]\tLoss: 0.033052\n",
      "Train Epoch: 15 [9600/60000 (16%)]\tLoss: 0.062246\n",
      "Train Epoch: 15 [12800/60000 (21%)]\tLoss: 0.072519\n",
      "Train Epoch: 15 [16000/60000 (27%)]\tLoss: 0.068372\n",
      "Train Epoch: 15 [19200/60000 (32%)]\tLoss: 0.036354\n",
      "Train Epoch: 15 [22400/60000 (37%)]\tLoss: 0.059503\n",
      "Train Epoch: 15 [25600/60000 (43%)]\tLoss: 0.058477\n",
      "Train Epoch: 15 [28800/60000 (48%)]\tLoss: 0.035302\n",
      "Train Epoch: 15 [32000/60000 (53%)]\tLoss: 0.039910\n",
      "Train Epoch: 15 [35200/60000 (59%)]\tLoss: 0.080487\n",
      "Train Epoch: 15 [38400/60000 (64%)]\tLoss: 0.047225\n",
      "Train Epoch: 15 [41600/60000 (69%)]\tLoss: 0.050070\n",
      "Train Epoch: 15 [44800/60000 (75%)]\tLoss: 0.060438\n",
      "Train Epoch: 15 [48000/60000 (80%)]\tLoss: 0.057740\n",
      "Train Epoch: 15 [51200/60000 (85%)]\tLoss: 0.067020\n",
      "Train Epoch: 15 [54400/60000 (91%)]\tLoss: 0.032542\n",
      "Train Epoch: 15 [57600/60000 (96%)]\tLoss: 0.053068\n",
      "Train Epoch: 16 [0/60000 (0%)]\tLoss: 0.051822\n",
      "Train Epoch: 16 [3200/60000 (5%)]\tLoss: 0.035267\n",
      "Train Epoch: 16 [6400/60000 (11%)]\tLoss: 0.062386\n",
      "Train Epoch: 16 [9600/60000 (16%)]\tLoss: 0.101304\n",
      "Train Epoch: 16 [12800/60000 (21%)]\tLoss: 0.048569\n",
      "Train Epoch: 16 [16000/60000 (27%)]\tLoss: 0.059127\n",
      "Train Epoch: 16 [19200/60000 (32%)]\tLoss: 0.049263\n",
      "Train Epoch: 16 [22400/60000 (37%)]\tLoss: 0.042122\n",
      "Train Epoch: 16 [25600/60000 (43%)]\tLoss: 0.048040\n",
      "Train Epoch: 16 [28800/60000 (48%)]\tLoss: 0.079772\n",
      "Train Epoch: 16 [32000/60000 (53%)]\tLoss: 0.098480\n",
      "Train Epoch: 16 [35200/60000 (59%)]\tLoss: 0.031758\n",
      "Train Epoch: 16 [38400/60000 (64%)]\tLoss: 0.053172\n",
      "Train Epoch: 16 [41600/60000 (69%)]\tLoss: 0.046676\n",
      "Train Epoch: 16 [44800/60000 (75%)]\tLoss: 0.047271\n",
      "Train Epoch: 16 [48000/60000 (80%)]\tLoss: 0.029115\n",
      "Train Epoch: 16 [51200/60000 (85%)]\tLoss: 0.081418\n",
      "Train Epoch: 16 [54400/60000 (91%)]\tLoss: 0.059611\n",
      "Train Epoch: 16 [57600/60000 (96%)]\tLoss: 0.042477\n",
      "Train Epoch: 17 [0/60000 (0%)]\tLoss: 0.103571\n",
      "Train Epoch: 17 [3200/60000 (5%)]\tLoss: 0.035198\n",
      "Train Epoch: 17 [6400/60000 (11%)]\tLoss: 0.035432\n",
      "Train Epoch: 17 [9600/60000 (16%)]\tLoss: 0.087347\n",
      "Train Epoch: 17 [12800/60000 (21%)]\tLoss: 0.029181\n",
      "Train Epoch: 17 [16000/60000 (27%)]\tLoss: 0.061842\n",
      "Train Epoch: 17 [19200/60000 (32%)]\tLoss: 0.048407\n",
      "Train Epoch: 17 [22400/60000 (37%)]\tLoss: 0.076093\n",
      "Train Epoch: 17 [25600/60000 (43%)]\tLoss: 0.075994\n",
      "Train Epoch: 17 [28800/60000 (48%)]\tLoss: 0.056760\n",
      "Train Epoch: 17 [32000/60000 (53%)]\tLoss: 0.082807\n",
      "Train Epoch: 17 [35200/60000 (59%)]\tLoss: 0.045044\n",
      "Train Epoch: 17 [38400/60000 (64%)]\tLoss: 0.053563\n",
      "Train Epoch: 17 [41600/60000 (69%)]\tLoss: 0.081149\n",
      "Train Epoch: 17 [44800/60000 (75%)]\tLoss: 0.063507\n",
      "Train Epoch: 17 [48000/60000 (80%)]\tLoss: 0.037906\n",
      "Train Epoch: 17 [51200/60000 (85%)]\tLoss: 0.054217\n",
      "Train Epoch: 17 [54400/60000 (91%)]\tLoss: 0.060189\n",
      "Train Epoch: 17 [57600/60000 (96%)]\tLoss: 0.050257\n",
      "Train Epoch: 18 [0/60000 (0%)]\tLoss: 0.029148\n",
      "Train Epoch: 18 [3200/60000 (5%)]\tLoss: 0.057164\n",
      "Train Epoch: 18 [6400/60000 (11%)]\tLoss: 0.099719\n",
      "Train Epoch: 18 [9600/60000 (16%)]\tLoss: 0.033861\n",
      "Train Epoch: 18 [12800/60000 (21%)]\tLoss: 0.039098\n",
      "Train Epoch: 18 [16000/60000 (27%)]\tLoss: 0.026718\n",
      "Train Epoch: 18 [19200/60000 (32%)]\tLoss: 0.030698\n",
      "Train Epoch: 18 [22400/60000 (37%)]\tLoss: 0.039883\n",
      "Train Epoch: 18 [25600/60000 (43%)]\tLoss: 0.041677\n",
      "Train Epoch: 18 [28800/60000 (48%)]\tLoss: 0.059756\n",
      "Train Epoch: 18 [32000/60000 (53%)]\tLoss: 0.074194\n",
      "Train Epoch: 18 [35200/60000 (59%)]\tLoss: 0.024385\n",
      "Train Epoch: 18 [38400/60000 (64%)]\tLoss: 0.025901\n",
      "Train Epoch: 18 [41600/60000 (69%)]\tLoss: 0.037110\n",
      "Train Epoch: 18 [44800/60000 (75%)]\tLoss: 0.029760\n",
      "Train Epoch: 18 [48000/60000 (80%)]\tLoss: 0.045726\n",
      "Train Epoch: 18 [51200/60000 (85%)]\tLoss: 0.043487\n",
      "Train Epoch: 18 [54400/60000 (91%)]\tLoss: 0.035361\n",
      "Train Epoch: 18 [57600/60000 (96%)]\tLoss: 0.020951\n",
      "Train Epoch: 19 [0/60000 (0%)]\tLoss: 0.026593\n",
      "Train Epoch: 19 [3200/60000 (5%)]\tLoss: 0.036474\n",
      "Train Epoch: 19 [6400/60000 (11%)]\tLoss: 0.060907\n",
      "Train Epoch: 19 [9600/60000 (16%)]\tLoss: 0.027356\n",
      "Train Epoch: 19 [12800/60000 (21%)]\tLoss: 0.027307\n",
      "Train Epoch: 19 [16000/60000 (27%)]\tLoss: 0.049823\n",
      "Train Epoch: 19 [19200/60000 (32%)]\tLoss: 0.073142\n",
      "Train Epoch: 19 [22400/60000 (37%)]\tLoss: 0.060133\n",
      "Train Epoch: 19 [25600/60000 (43%)]\tLoss: 0.043989\n",
      "Train Epoch: 19 [28800/60000 (48%)]\tLoss: 0.039249\n",
      "Train Epoch: 19 [32000/60000 (53%)]\tLoss: 0.035114\n",
      "Train Epoch: 19 [35200/60000 (59%)]\tLoss: 0.030879\n",
      "Train Epoch: 19 [38400/60000 (64%)]\tLoss: 0.028055\n",
      "Train Epoch: 19 [41600/60000 (69%)]\tLoss: 0.030419\n",
      "Train Epoch: 19 [44800/60000 (75%)]\tLoss: 0.068046\n",
      "Train Epoch: 19 [48000/60000 (80%)]\tLoss: 0.069039\n",
      "Train Epoch: 19 [51200/60000 (85%)]\tLoss: 0.034655\n",
      "Train Epoch: 19 [54400/60000 (91%)]\tLoss: 0.046613\n",
      "Train Epoch: 19 [57600/60000 (96%)]\tLoss: 0.042469\n",
      "Train Epoch: 20 [0/60000 (0%)]\tLoss: 0.028119\n",
      "Train Epoch: 20 [3200/60000 (5%)]\tLoss: 0.039678\n",
      "Train Epoch: 20 [6400/60000 (11%)]\tLoss: 0.034064\n",
      "Train Epoch: 20 [9600/60000 (16%)]\tLoss: 0.047937\n",
      "Train Epoch: 20 [12800/60000 (21%)]\tLoss: 0.050081\n",
      "Train Epoch: 20 [16000/60000 (27%)]\tLoss: 0.033397\n",
      "Train Epoch: 20 [19200/60000 (32%)]\tLoss: 0.042176\n",
      "Train Epoch: 20 [22400/60000 (37%)]\tLoss: 0.046217\n",
      "Train Epoch: 20 [25600/60000 (43%)]\tLoss: 0.076184\n",
      "Train Epoch: 20 [28800/60000 (48%)]\tLoss: 0.028337\n",
      "Train Epoch: 20 [32000/60000 (53%)]\tLoss: 0.060096\n",
      "Train Epoch: 20 [35200/60000 (59%)]\tLoss: 0.059183\n",
      "Train Epoch: 20 [38400/60000 (64%)]\tLoss: 0.019598\n",
      "Train Epoch: 20 [41600/60000 (69%)]\tLoss: 0.079515\n",
      "Train Epoch: 20 [44800/60000 (75%)]\tLoss: 0.068738\n",
      "Train Epoch: 20 [48000/60000 (80%)]\tLoss: 0.058631\n",
      "Train Epoch: 20 [51200/60000 (85%)]\tLoss: 0.063800\n",
      "Train Epoch: 20 [54400/60000 (91%)]\tLoss: 0.087985\n",
      "Train Epoch: 20 [57600/60000 (96%)]\tLoss: 0.023274\n",
      "Train Epoch: 21 [0/60000 (0%)]\tLoss: 0.035970\n",
      "Train Epoch: 21 [3200/60000 (5%)]\tLoss: 0.020797\n",
      "Train Epoch: 21 [6400/60000 (11%)]\tLoss: 0.057060\n",
      "Train Epoch: 21 [9600/60000 (16%)]\tLoss: 0.066320\n",
      "Train Epoch: 21 [12800/60000 (21%)]\tLoss: 0.034485\n",
      "Train Epoch: 21 [16000/60000 (27%)]\tLoss: 0.064314\n",
      "Train Epoch: 21 [19200/60000 (32%)]\tLoss: 0.051732\n",
      "Train Epoch: 21 [22400/60000 (37%)]\tLoss: 0.032371\n",
      "Train Epoch: 21 [25600/60000 (43%)]\tLoss: 0.039748\n",
      "Train Epoch: 21 [28800/60000 (48%)]\tLoss: 0.023473\n",
      "Train Epoch: 21 [32000/60000 (53%)]\tLoss: 0.046037\n",
      "Train Epoch: 21 [35200/60000 (59%)]\tLoss: 0.037737\n",
      "Train Epoch: 21 [38400/60000 (64%)]\tLoss: 0.040459\n",
      "Train Epoch: 21 [41600/60000 (69%)]\tLoss: 0.041379\n",
      "Train Epoch: 21 [44800/60000 (75%)]\tLoss: 0.023908\n",
      "Train Epoch: 21 [48000/60000 (80%)]\tLoss: 0.029543\n",
      "Train Epoch: 21 [51200/60000 (85%)]\tLoss: 0.035229\n",
      "Train Epoch: 21 [54400/60000 (91%)]\tLoss: 0.045804\n",
      "Train Epoch: 21 [57600/60000 (96%)]\tLoss: 0.025876\n",
      "Train Epoch: 22 [0/60000 (0%)]\tLoss: 0.041171\n",
      "Train Epoch: 22 [3200/60000 (5%)]\tLoss: 0.037774\n",
      "Train Epoch: 22 [6400/60000 (11%)]\tLoss: 0.031715\n",
      "Train Epoch: 22 [9600/60000 (16%)]\tLoss: 0.027217\n",
      "Train Epoch: 22 [12800/60000 (21%)]\tLoss: 0.028736\n",
      "Train Epoch: 22 [16000/60000 (27%)]\tLoss: 0.040022\n",
      "Train Epoch: 22 [19200/60000 (32%)]\tLoss: 0.057856\n",
      "Train Epoch: 22 [22400/60000 (37%)]\tLoss: 0.034392\n",
      "Train Epoch: 22 [25600/60000 (43%)]\tLoss: 0.052454\n",
      "Train Epoch: 22 [28800/60000 (48%)]\tLoss: 0.044021\n",
      "Train Epoch: 22 [32000/60000 (53%)]\tLoss: 0.021774\n",
      "Train Epoch: 22 [35200/60000 (59%)]\tLoss: 0.075350\n",
      "Train Epoch: 22 [38400/60000 (64%)]\tLoss: 0.019456\n",
      "Train Epoch: 22 [41600/60000 (69%)]\tLoss: 0.020073\n",
      "Train Epoch: 22 [44800/60000 (75%)]\tLoss: 0.041946\n",
      "Train Epoch: 22 [48000/60000 (80%)]\tLoss: 0.039348\n",
      "Train Epoch: 22 [51200/60000 (85%)]\tLoss: 0.026073\n",
      "Train Epoch: 22 [54400/60000 (91%)]\tLoss: 0.068810\n",
      "Train Epoch: 22 [57600/60000 (96%)]\tLoss: 0.051068\n",
      "Train Epoch: 23 [0/60000 (0%)]\tLoss: 0.027174\n",
      "Train Epoch: 23 [3200/60000 (5%)]\tLoss: 0.034856\n",
      "Train Epoch: 23 [6400/60000 (11%)]\tLoss: 0.072588\n",
      "Train Epoch: 23 [9600/60000 (16%)]\tLoss: 0.041371\n",
      "Train Epoch: 23 [12800/60000 (21%)]\tLoss: 0.040168\n",
      "Train Epoch: 23 [16000/60000 (27%)]\tLoss: 0.048925\n",
      "Train Epoch: 23 [19200/60000 (32%)]\tLoss: 0.037019\n",
      "Train Epoch: 23 [22400/60000 (37%)]\tLoss: 0.021596\n",
      "Train Epoch: 23 [25600/60000 (43%)]\tLoss: 0.035103\n",
      "Train Epoch: 23 [28800/60000 (48%)]\tLoss: 0.048563\n",
      "Train Epoch: 23 [32000/60000 (53%)]\tLoss: 0.020079\n",
      "Train Epoch: 23 [35200/60000 (59%)]\tLoss: 0.030147\n",
      "Train Epoch: 23 [38400/60000 (64%)]\tLoss: 0.019333\n",
      "Train Epoch: 23 [41600/60000 (69%)]\tLoss: 0.038085\n",
      "Train Epoch: 23 [44800/60000 (75%)]\tLoss: 0.023805\n",
      "Train Epoch: 23 [48000/60000 (80%)]\tLoss: 0.041245\n",
      "Train Epoch: 23 [51200/60000 (85%)]\tLoss: 0.033925\n",
      "Train Epoch: 23 [54400/60000 (91%)]\tLoss: 0.023289\n",
      "Train Epoch: 23 [57600/60000 (96%)]\tLoss: 0.021588\n",
      "Train Epoch: 24 [0/60000 (0%)]\tLoss: 0.047444\n",
      "Train Epoch: 24 [3200/60000 (5%)]\tLoss: 0.035854\n",
      "Train Epoch: 24 [6400/60000 (11%)]\tLoss: 0.057744\n",
      "Train Epoch: 24 [9600/60000 (16%)]\tLoss: 0.045158\n",
      "Train Epoch: 24 [12800/60000 (21%)]\tLoss: 0.020276\n",
      "Train Epoch: 24 [16000/60000 (27%)]\tLoss: 0.016692\n",
      "Train Epoch: 24 [19200/60000 (32%)]\tLoss: 0.019346\n",
      "Train Epoch: 24 [22400/60000 (37%)]\tLoss: 0.018146\n",
      "Train Epoch: 24 [25600/60000 (43%)]\tLoss: 0.039668\n",
      "Train Epoch: 24 [28800/60000 (48%)]\tLoss: 0.030711\n",
      "Train Epoch: 24 [32000/60000 (53%)]\tLoss: 0.017013\n",
      "Train Epoch: 24 [35200/60000 (59%)]\tLoss: 0.042723\n",
      "Train Epoch: 24 [38400/60000 (64%)]\tLoss: 0.039059\n",
      "Train Epoch: 24 [41600/60000 (69%)]\tLoss: 0.024152\n",
      "Train Epoch: 24 [44800/60000 (75%)]\tLoss: 0.072027\n",
      "Train Epoch: 24 [48000/60000 (80%)]\tLoss: 0.023980\n",
      "Train Epoch: 24 [51200/60000 (85%)]\tLoss: 0.025753\n",
      "Train Epoch: 24 [54400/60000 (91%)]\tLoss: 0.031240\n",
      "Train Epoch: 24 [57600/60000 (96%)]\tLoss: 0.046358\n",
      "Train Epoch: 25 [0/60000 (0%)]\tLoss: 0.025894\n",
      "Train Epoch: 25 [3200/60000 (5%)]\tLoss: 0.026288\n",
      "Train Epoch: 25 [6400/60000 (11%)]\tLoss: 0.032346\n",
      "Train Epoch: 25 [9600/60000 (16%)]\tLoss: 0.020142\n",
      "Train Epoch: 25 [12800/60000 (21%)]\tLoss: 0.019707\n",
      "Train Epoch: 25 [16000/60000 (27%)]\tLoss: 0.028568\n",
      "Train Epoch: 25 [19200/60000 (32%)]\tLoss: 0.051765\n",
      "Train Epoch: 25 [22400/60000 (37%)]\tLoss: 0.034891\n",
      "Train Epoch: 25 [25600/60000 (43%)]\tLoss: 0.017573\n",
      "Train Epoch: 25 [28800/60000 (48%)]\tLoss: 0.017602\n",
      "Train Epoch: 25 [32000/60000 (53%)]\tLoss: 0.013052\n",
      "Train Epoch: 25 [35200/60000 (59%)]\tLoss: 0.028957\n",
      "Train Epoch: 25 [38400/60000 (64%)]\tLoss: 0.029846\n",
      "Train Epoch: 25 [41600/60000 (69%)]\tLoss: 0.012653\n",
      "Train Epoch: 25 [44800/60000 (75%)]\tLoss: 0.018577\n",
      "Train Epoch: 25 [48000/60000 (80%)]\tLoss: 0.017869\n",
      "Train Epoch: 25 [51200/60000 (85%)]\tLoss: 0.034871\n",
      "Train Epoch: 25 [54400/60000 (91%)]\tLoss: 0.041365\n",
      "Train Epoch: 25 [57600/60000 (96%)]\tLoss: 0.028646\n",
      "Train Epoch: 26 [0/60000 (0%)]\tLoss: 0.036363\n",
      "Train Epoch: 26 [3200/60000 (5%)]\tLoss: 0.012012\n",
      "Train Epoch: 26 [6400/60000 (11%)]\tLoss: 0.010646\n",
      "Train Epoch: 26 [9600/60000 (16%)]\tLoss: 0.024790\n",
      "Train Epoch: 26 [12800/60000 (21%)]\tLoss: 0.029975\n",
      "Train Epoch: 26 [16000/60000 (27%)]\tLoss: 0.022701\n",
      "Train Epoch: 26 [19200/60000 (32%)]\tLoss: 0.016656\n",
      "Train Epoch: 26 [22400/60000 (37%)]\tLoss: 0.013062\n",
      "Train Epoch: 26 [25600/60000 (43%)]\tLoss: 0.034763\n",
      "Train Epoch: 26 [28800/60000 (48%)]\tLoss: 0.021255\n",
      "Train Epoch: 26 [32000/60000 (53%)]\tLoss: 0.013227\n",
      "Train Epoch: 26 [35200/60000 (59%)]\tLoss: 0.026792\n",
      "Train Epoch: 26 [38400/60000 (64%)]\tLoss: 0.018278\n",
      "Train Epoch: 26 [41600/60000 (69%)]\tLoss: 0.023087\n",
      "Train Epoch: 26 [44800/60000 (75%)]\tLoss: 0.042747\n",
      "Train Epoch: 26 [48000/60000 (80%)]\tLoss: 0.026282\n",
      "Train Epoch: 26 [51200/60000 (85%)]\tLoss: 0.016694\n",
      "Train Epoch: 26 [54400/60000 (91%)]\tLoss: 0.046507\n",
      "Train Epoch: 26 [57600/60000 (96%)]\tLoss: 0.012592\n",
      "Train Epoch: 27 [0/60000 (0%)]\tLoss: 0.033237\n",
      "Train Epoch: 27 [3200/60000 (5%)]\tLoss: 0.010530\n",
      "Train Epoch: 27 [6400/60000 (11%)]\tLoss: 0.035566\n",
      "Train Epoch: 27 [9600/60000 (16%)]\tLoss: 0.016911\n",
      "Train Epoch: 27 [12800/60000 (21%)]\tLoss: 0.031460\n",
      "Train Epoch: 27 [16000/60000 (27%)]\tLoss: 0.052257\n",
      "Train Epoch: 27 [19200/60000 (32%)]\tLoss: 0.012003\n",
      "Train Epoch: 27 [22400/60000 (37%)]\tLoss: 0.028267\n",
      "Train Epoch: 27 [25600/60000 (43%)]\tLoss: 0.049391\n",
      "Train Epoch: 27 [28800/60000 (48%)]\tLoss: 0.050015\n",
      "Train Epoch: 27 [32000/60000 (53%)]\tLoss: 0.026406\n",
      "Train Epoch: 27 [35200/60000 (59%)]\tLoss: 0.017269\n",
      "Train Epoch: 27 [38400/60000 (64%)]\tLoss: 0.019915\n",
      "Train Epoch: 27 [41600/60000 (69%)]\tLoss: 0.034426\n",
      "Train Epoch: 27 [44800/60000 (75%)]\tLoss: 0.038964\n",
      "Train Epoch: 27 [48000/60000 (80%)]\tLoss: 0.022984\n",
      "Train Epoch: 27 [51200/60000 (85%)]\tLoss: 0.012029\n",
      "Train Epoch: 27 [54400/60000 (91%)]\tLoss: 0.023281\n",
      "Train Epoch: 27 [57600/60000 (96%)]\tLoss: 0.061155\n",
      "Train Epoch: 28 [0/60000 (0%)]\tLoss: 0.024112\n",
      "Train Epoch: 28 [3200/60000 (5%)]\tLoss: 0.022478\n",
      "Train Epoch: 28 [6400/60000 (11%)]\tLoss: 0.032303\n",
      "Train Epoch: 28 [9600/60000 (16%)]\tLoss: 0.013435\n",
      "Train Epoch: 28 [12800/60000 (21%)]\tLoss: 0.024970\n",
      "Train Epoch: 28 [16000/60000 (27%)]\tLoss: 0.027397\n",
      "Train Epoch: 28 [19200/60000 (32%)]\tLoss: 0.017477\n",
      "Train Epoch: 28 [22400/60000 (37%)]\tLoss: 0.028231\n",
      "Train Epoch: 28 [25600/60000 (43%)]\tLoss: 0.041688\n",
      "Train Epoch: 28 [28800/60000 (48%)]\tLoss: 0.048780\n",
      "Train Epoch: 28 [32000/60000 (53%)]\tLoss: 0.032677\n",
      "Train Epoch: 28 [35200/60000 (59%)]\tLoss: 0.015247\n",
      "Train Epoch: 28 [38400/60000 (64%)]\tLoss: 0.032202\n",
      "Train Epoch: 28 [41600/60000 (69%)]\tLoss: 0.014073\n",
      "Train Epoch: 28 [44800/60000 (75%)]\tLoss: 0.054671\n",
      "Train Epoch: 28 [48000/60000 (80%)]\tLoss: 0.015091\n",
      "Train Epoch: 28 [51200/60000 (85%)]\tLoss: 0.018574\n",
      "Train Epoch: 28 [54400/60000 (91%)]\tLoss: 0.015217\n",
      "Train Epoch: 28 [57600/60000 (96%)]\tLoss: 0.009545\n",
      "Train Epoch: 29 [0/60000 (0%)]\tLoss: 0.016998\n",
      "Train Epoch: 29 [3200/60000 (5%)]\tLoss: 0.040878\n",
      "Train Epoch: 29 [6400/60000 (11%)]\tLoss: 0.029153\n",
      "Train Epoch: 29 [9600/60000 (16%)]\tLoss: 0.038174\n",
      "Train Epoch: 29 [12800/60000 (21%)]\tLoss: 0.026114\n",
      "Train Epoch: 29 [16000/60000 (27%)]\tLoss: 0.036503\n",
      "Train Epoch: 29 [19200/60000 (32%)]\tLoss: 0.025275\n",
      "Train Epoch: 29 [22400/60000 (37%)]\tLoss: 0.021835\n",
      "Train Epoch: 29 [25600/60000 (43%)]\tLoss: 0.012729\n",
      "Train Epoch: 29 [28800/60000 (48%)]\tLoss: 0.014704\n",
      "Train Epoch: 29 [32000/60000 (53%)]\tLoss: 0.026988\n",
      "Train Epoch: 29 [35200/60000 (59%)]\tLoss: 0.016940\n",
      "Train Epoch: 29 [38400/60000 (64%)]\tLoss: 0.012295\n",
      "Train Epoch: 29 [41600/60000 (69%)]\tLoss: 0.026764\n",
      "Train Epoch: 29 [44800/60000 (75%)]\tLoss: 0.021263\n",
      "Train Epoch: 29 [48000/60000 (80%)]\tLoss: 0.041927\n",
      "Train Epoch: 29 [51200/60000 (85%)]\tLoss: 0.021342\n",
      "Train Epoch: 29 [54400/60000 (91%)]\tLoss: 0.012074\n",
      "Train Epoch: 29 [57600/60000 (96%)]\tLoss: 0.015710\n",
      "Train Epoch: 30 [0/60000 (0%)]\tLoss: 0.027353\n",
      "Train Epoch: 30 [3200/60000 (5%)]\tLoss: 0.027847\n",
      "Train Epoch: 30 [6400/60000 (11%)]\tLoss: 0.011419\n",
      "Train Epoch: 30 [9600/60000 (16%)]\tLoss: 0.020195\n",
      "Train Epoch: 30 [12800/60000 (21%)]\tLoss: 0.021905\n",
      "Train Epoch: 30 [16000/60000 (27%)]\tLoss: 0.014907\n",
      "Train Epoch: 30 [19200/60000 (32%)]\tLoss: 0.014258\n",
      "Train Epoch: 30 [22400/60000 (37%)]\tLoss: 0.014637\n",
      "Train Epoch: 30 [25600/60000 (43%)]\tLoss: 0.019490\n",
      "Train Epoch: 30 [28800/60000 (48%)]\tLoss: 0.016709\n",
      "Train Epoch: 30 [32000/60000 (53%)]\tLoss: 0.010445\n",
      "Train Epoch: 30 [35200/60000 (59%)]\tLoss: 0.019804\n",
      "Train Epoch: 30 [38400/60000 (64%)]\tLoss: 0.010946\n",
      "Train Epoch: 30 [41600/60000 (69%)]\tLoss: 0.020404\n",
      "Train Epoch: 30 [44800/60000 (75%)]\tLoss: 0.018402\n",
      "Train Epoch: 30 [48000/60000 (80%)]\tLoss: 0.018644\n",
      "Train Epoch: 30 [51200/60000 (85%)]\tLoss: 0.018106\n",
      "Train Epoch: 30 [54400/60000 (91%)]\tLoss: 0.023355\n",
      "Train Epoch: 30 [57600/60000 (96%)]\tLoss: 0.031347\n"
     ]
    }
   ],
   "source": [
    "model = get_model().to(device)\n",
    "\n",
    "lr = 1e-2\n",
    "optimizer = optim.Adam(model.parameters(), lr=lr)\n",
    "\n",
    "epochs = int(input(\"How many epochs?\"))\n",
    "scheduler: optim.lr_scheduler._LRScheduler = optim.lr_scheduler.OneCycleLR(optimizer, lr, epochs=epochs, steps_per_epoch=len(train_loader)) # type: ignore because OneCycleLR dosen't show up\n",
    "\n",
    "log_interval = 100 # how many batches to wait before logging training status\n",
    "\n",
    "loss_history: list[torch.Tensor] = []\n",
    "bbox_loss_history: list[torch.Tensor] = []\n",
    "classification_loss_history: list[torch.Tensor] = []\n",
    "for epoch in range(1, epochs + 1):\n",
    "    loss_values, bbox_loss_values, classification_loss_values = train(model, device, train_loader, optimizer, epoch, log_interval, scheduler)\n",
    "    loss_history += loss_values\n",
    "    bbox_loss_history += bbox_loss_values\n",
    "    classification_loss_history += classification_loss_values"
   ]
  },
  {
   "cell_type": "markdown",
   "metadata": {
    "id": "mIMOMKRh18--"
   },
   "source": [
    "### Plot the loss over time"
   ]
  },
  {
   "cell_type": "code",
   "execution_count": 11,
   "metadata": {
    "colab": {
     "base_uri": "https://localhost:8080/",
     "height": 483
    },
    "id": "Jb2ocuvo18--",
    "outputId": "2a13cb65-670b-4c7d-882d-1af814e9feb9"
   },
   "outputs": [
    {
     "data": {
      "image/png": "[encoded data removed]",
      "text/plain": [
       "<Figure size 1600x800 with 1 Axes>"
      ]
     },
     "metadata": {},
     "output_type": "display_data"
    }
   ],
   "source": [
    "loss_history_cpu = torch.tensor(loss_history)\n",
    "bbox_loss_history_cpu = torch.tensor(bbox_loss_history)\n",
    "classification_loss_history_cpu = torch.tensor(classification_loss_history)\n",
    "\n",
    "plt.figure(figsize=(16,8))\n",
    "plt.plot(np.arange(len(loss_history_cpu)), loss_history_cpu, label='Total Loss')\n",
    "plt.plot(np.arange(len(loss_history_cpu)), bbox_loss_history_cpu, label='Bbox Loss')\n",
    "plt.plot(np.arange(len(loss_history_cpu)), classification_loss_history_cpu, label='Class loss')\n",
    "plt.legend(loc=\"upper right\")\n",
    "plt.show()"
   ]
  },
  {
   "cell_type": "markdown",
   "metadata": {
    "id": "5tWPmXhk18--"
   },
   "source": [
    "## Evaluate the model\n",
    "\n",
    "Finally, we can use the trained model to predict a bounding box for any given image. Let's see how to make predictions for the first four images of the test set."
   ]
  },
  {
   "cell_type": "code",
   "execution_count": 12,
   "metadata": {
    "colab": {
     "base_uri": "https://localhost:8080/",
     "height": 152
    },
    "id": "JMecAtU618--",
    "outputId": "84a25ff9-057b-420c-a65c-e9278f8f7ebf"
   },
   "outputs": [
    {
     "name": "stderr",
     "output_type": "stream",
     "text": [
      "<cell>25: \u001b[1m\u001b[91merror:\u001b[0m Invalid \u001b[0m\u001b[1m\"type: ignore\"\u001b[0m comment  \u001b[0m\u001b[93m[syntax]\u001b[0m\n",
      "<cell>25: \u001b[1m\u001b[91merror:\u001b[0m Argument 1 to \u001b[0m\u001b[1m\"show_bbox\"\u001b[0m has incompatible type \u001b[0m\u001b[1m\"**dict[str, Union[Tensor, ndarray[floating[_32Bit], dtype[floating[_32Bit]]]]]\"\u001b[0m; expected \u001b[0m\u001b[1m\"Tensor\"\u001b[0m  \u001b[0m\u001b[93m[arg-type]\u001b[0m\n",
      "<cell>25: \u001b[1m\u001b[91merror:\u001b[0m Argument 1 to \u001b[0m\u001b[1m\"show_bbox\"\u001b[0m has incompatible type \u001b[0m\u001b[1m\"**dict[str, Union[Tensor, ndarray[floating[_32Bit], dtype[floating[_32Bit]]]]]\"\u001b[0m; expected \u001b[0m\u001b[1m\"ndarray[floating[_32Bit], dtype[floating[_32Bit]]]\"\u001b[0m  \u001b[0m\u001b[93m[arg-type]\u001b[0m\n",
      "<cell>25: \u001b[1m\u001b[91merror:\u001b[0m Argument 1 to \u001b[0m\u001b[1m\"show_bbox\"\u001b[0m has incompatible type \u001b[0m\u001b[1m\"**dict[str, Union[Tensor, ndarray[floating[_32Bit], dtype[floating[_32Bit]]]]]\"\u001b[0m; expected \u001b[0m\u001b[1m\"Optional[ndarray[floating[_32Bit], dtype[floating[_32Bit]]]]\"\u001b[0m  \u001b[0m\u001b[93m[arg-type]\u001b[0m\n"
     ]
    },
    {
     "data": {
      "image/png": "[encoded data removed]",
      "text/plain": [
       "<Figure size 640x480 with 4 Axes>"
      ]
     },
     "metadata": {},
     "output_type": "display_data"
    }
   ],
   "source": [
    "model.eval()\n",
    "\n",
    "fig = plt.figure()\n",
    "for i in range(5):\n",
    "    # get a random index\n",
    "    idx = np.random.randint(0,len(dataset2))\n",
    "    sample = dataset2[idx]\n",
    "    ax = plt.subplot(1, 4, i + 1)\n",
    "    plt.tight_layout()\n",
    "    ax.set_title('Sample #{}'.format(i))\n",
    "    ax.axis('off')\n",
    "    \n",
    "    # predict the bounding box for a given image\n",
    "    data = sample['image']\n",
    "    assert isinstance(data, torch.Tensor)\n",
    "    data = data.reshape((1,)+data.shape) # shape must be (b,c,h,w)\n",
    "    data = data.to(device)\n",
    "    with torch.no_grad():\n",
    "        output, label_pred = model(data)\n",
    "        output: torch.Tensor\n",
    "        label_pred: torch.Tensor\n",
    "        \n",
    "    sample['pred'] = output[0].cpu().numpy()\n",
    "    label_pred = (torch.argmax(label_pred)).cpu().numpy()\n",
    "    show_bbox(**sample) # type: ignore can't differentiate arg types\n",
    "    ax.set_title(f\"Sample #{i} \\n Label {sample['label']} \\n Pred: {label_pred}\")\n",
    "\n",
    "    if i == 3:\n",
    "        plt.show()\n",
    "        break"
   ]
  },
  {
   "cell_type": "markdown",
   "metadata": {
    "id": "xIulY-aDnFWx"
   },
   "source": [
    "We appreciate that the predicted bounding boxes (blue) are good aproximations of the ground truth (red).\n",
    "\n",
    "In order to measure whether the results are correct or not in the entire test set we need to implement a performance measure based on the Intersection over Union (IoU) of the ground truth and predicted bounding boxes."
   ]
  },
  {
   "cell_type": "code",
   "execution_count": 13,
   "metadata": {
    "id": "mQAjMYu0nFWz"
   },
   "outputs": [],
   "source": [
    "def IoU(pred: np.ndarray[np.ndarray[np.float32,np.dtypes.Float32DType],np.dtypes.Float32DType], target: np.ndarray[np.ndarray[np.float32,np.dtypes.Float32DType],np.dtypes.Float32DType], iou_threshold = 0.7) -> np.ndarray[np.bool_, np.dtype[np.bool_]]:\n",
    "    \"\"\"\n",
    "    Test if bounding boxes are close enough\n",
    "\n",
    "    Args:\n",
    "        pred (np.ndarray[np.ndarray[np.float32,np.dtypes.Float32DType],np.dtypes.Float32DType]): Predicted bbox\n",
    "        target (np.ndarray[np.ndarray[np.float32,np.dtypes.Float32DType],np.dtypes.Float32DType]): Actual bbox\n",
    "        iou_threshold (float, optional): Strictness. Defaults to 0.7.\n",
    "\n",
    "    Returns:\n",
    "        np.ndarray[np.bool_, np.dtype[np.bool_]]: An array of booleans that say which bounding boxes pass\n",
    "    \"\"\"    \n",
    "    # determine the coordinates of the intersection rectangle\n",
    "    x_left: np.ndarray[np.float32,np.dtypes.Float32DType] = np.maximum(pred[:,0], target[:,0])\n",
    "    y_top: np.ndarray[np.float32,np.dtypes.Float32DType] = np.maximum(pred[:,1], target[:,1])\n",
    "    x_right: np.ndarray[np.float32,np.dtypes.Float32DType] = np.minimum(pred[:,0]+pred[:,2], target[:,0]+target[:,2])\n",
    "    y_bottom: np.ndarray[np.float32,np.dtypes.Float32DType] = np.minimum(pred[:,1]+pred[:,3], target[:,1]+target[:,3])\n",
    "    \n",
    "    intersection_area: np.ndarray[np.float32,np.dtypes.Float32DType] = (x_right - x_left) * (y_bottom - y_top)\n",
    "    \n",
    "    # compute the areas of the union\n",
    "    pred_area: np.ndarray[np.float32,np.dtypes.Float32DType] = pred[:,2] * pred[:,3]\n",
    "    target_area: np.ndarray[np.float32,np.dtypes.Float32DType] = target[:,2] * target[:,3]\n",
    "    \n",
    "    union_area: np.ndarray[np.float32,np.dtypes.Float32DType] = pred_area + target_area - intersection_area\n",
    "    \n",
    "    iou: np.ndarray[np.float32,np.dtypes.Float32DType] = intersection_area / union_area\n",
    "    \n",
    "    return iou>iou_threshold"
   ]
  },
  {
   "cell_type": "markdown",
   "metadata": {
    "id": "e-eALiMsnFW1"
   },
   "source": [
    "### Define the test method"
   ]
  },
  {
   "cell_type": "code",
   "execution_count": 14,
   "metadata": {
    "colab": {
     "base_uri": "https://localhost:8080/"
    },
    "id": "mGRtscbXnFW2",
    "outputId": "f2fd7c4e-2992-4e2e-de88-dd99e01ff3a2"
   },
   "outputs": [
    {
     "name": "stderr",
     "output_type": "stream",
     "text": [
      "<cell>17: \u001b[1m\u001b[91merror:\u001b[0m Name \u001b[0m\u001b[1m\"sample_batched\"\u001b[0m already defined on line 16  \u001b[0m\u001b[93m[no-redef]\u001b[0m\n"
     ]
    },
    {
     "name": "stdout",
     "output_type": "stream",
     "text": [
      "\n",
      "Test set: Average bbox loss: 0.0086, Average classification loss: 0.1328 , BBox Accuracy: 9663/10000 (97%), Classification Accuracy: 9574/10000 (96%)  \n",
      "\n"
     ]
    }
   ],
   "source": [
    "def test(model: Net, device: torch.device, test_loader: DataLoader) -> None:\n",
    "    \"\"\"\n",
    "    Test a model.\n",
    "\n",
    "    Args:\n",
    "        model (Net): The model to test.\n",
    "        device (torch.device): The device to test with.\n",
    "        test_loader (DataLoader): The dataset loader of the dataset to test the model on.\n",
    "    \"\"\"    \n",
    "    model.eval()\n",
    "    bbox_loss: float = 0 # type: ignore\n",
    "    classification_loss: float = 0 # type: ignore\n",
    "    correct_bbox: np.int32 = 0 # type: ignore\n",
    "    correct_class: torch.Tensor = 0 # type: ignore\n",
    "    with torch.no_grad():\n",
    "        for sample_batched in test_loader:\n",
    "            sample_batched: dict[str, torch.Tensor]\n",
    "            data = sample_batched['image']\n",
    "            target = sample_batched['bbox']\n",
    "            label = sample_batched['label']  \n",
    "            data, target, label = data.to(device), target.to(device), label.to(device)\n",
    "\n",
    "            output, label_pred = model(data)\n",
    "            output: torch.Tensor\n",
    "            label_pred: torch.Tensor\n",
    "\n",
    "            bbox_loss += F.l1_loss(output, target).item()\n",
    "            classification_loss += F.cross_entropy(label_pred, label).item()\n",
    "\n",
    "            \n",
    "            # count the number of prediction with an IoU above a certain threshold\n",
    "            correct_bbox += np.sum(IoU(output.cpu().numpy(), target.cpu().numpy(), iou_threshold = 0.7))\n",
    "            \n",
    "            # count the number of predictions with the correct class predicted\n",
    "            correct_class += torch.sum(torch.argmax(label_pred.cpu(), dim=1) == label.cpu())\n",
    "\n",
    "\n",
    "    bbox_loss /= (len(test_loader.dataset)/test_loader.batch_size) # type: ignore\n",
    "    classification_loss /= (len(test_loader.dataset)/test_loader.batch_size) # type: ignore\n",
    "    \n",
    "    print('\\nTest set: Average bbox loss: {:.4f}, Average classification loss: {:.4f} , BBox Accuracy: {}/{} ({:.0f}%), Classification Accuracy: {}/{} ({:.0f}%)  \\n'.format(\n",
    "        bbox_loss,classification_loss, \n",
    "        correct_bbox, len(test_loader.dataset), 100. * correct_bbox / len(test_loader.dataset),  # type: ignore\n",
    "        correct_class, len(test_loader.dataset), 100. * correct_class / len(test_loader.dataset))) # type: ignore\n",
    "    \n",
    "\n",
    "# call the test method\n",
    "test(model, device, test_loader)"
   ]
  },
  {
   "cell_type": "code",
   "execution_count": 16,
   "metadata": {
    "colab": {
     "base_uri": "https://localhost:8080/",
     "height": 285
    },
    "id": "MFi3JR4OnFW5",
    "outputId": "7d1f1fa7-0452-46be-d7f9-3031f677388f",
    "scrolled": true
   },
   "outputs": [
    {
     "name": "stderr",
     "output_type": "stream",
     "text": [
      "<cell>20: \u001b[1m\u001b[91merror:\u001b[0m Invalid \u001b[0m\u001b[1m\"type: ignore\"\u001b[0m comment  \u001b[0m\u001b[93m[syntax]\u001b[0m\n",
      "<cell>20: \u001b[1m\u001b[91merror:\u001b[0m Incompatible types in assignment (expression has type \u001b[0m\u001b[1m\"Union[Tensor, ndarray[Any, dtype[floating[_32Bit]]]]\"\u001b[0m, variable has type \u001b[0m\u001b[1m\"ndarray[ndarray[floating[_32Bit], dtype[floating[_32Bit]]], dtype[floating[_32Bit]]]\"\u001b[0m)  \u001b[0m\u001b[93m[assignment]\u001b[0m\n",
      "<cell>26: \u001b[1m\u001b[91merror:\u001b[0m Invalid \u001b[0m\u001b[1m\"type: ignore\"\u001b[0m comment  \u001b[0m\u001b[93m[syntax]\u001b[0m\n",
      "<cell>26: \u001b[1m\u001b[91merror:\u001b[0m Argument 1 to \u001b[0m\u001b[1m\"show_bbox\"\u001b[0m has incompatible type \u001b[0m\u001b[1m\"**dict[str, Union[Tensor, ndarray[floating[_32Bit], dtype[floating[_32Bit]]]]]\"\u001b[0m; expected \u001b[0m\u001b[1m\"Tensor\"\u001b[0m  \u001b[0m\u001b[93m[arg-type]\u001b[0m\n",
      "<cell>26: \u001b[1m\u001b[91merror:\u001b[0m Argument 1 to \u001b[0m\u001b[1m\"show_bbox\"\u001b[0m has incompatible type \u001b[0m\u001b[1m\"**dict[str, Union[Tensor, ndarray[floating[_32Bit], dtype[floating[_32Bit]]]]]\"\u001b[0m; expected \u001b[0m\u001b[1m\"ndarray[floating[_32Bit], dtype[floating[_32Bit]]]\"\u001b[0m  \u001b[0m\u001b[93m[arg-type]\u001b[0m\n",
      "<cell>26: \u001b[1m\u001b[91merror:\u001b[0m Argument 1 to \u001b[0m\u001b[1m\"show_bbox\"\u001b[0m has incompatible type \u001b[0m\u001b[1m\"**dict[str, Union[Tensor, ndarray[floating[_32Bit], dtype[floating[_32Bit]]]]]\"\u001b[0m; expected \u001b[0m\u001b[1m\"Optional[ndarray[floating[_32Bit], dtype[floating[_32Bit]]]]\"\u001b[0m  \u001b[0m\u001b[93m[arg-type]\u001b[0m\n"
     ]
    },
    {
     "name": "stdout",
     "output_type": "stream",
     "text": [
      "[[0.20389442 0.45525718 0.43750003 0.43750003]] [[0.125  0.4375 0.4375 0.4375]] [False]\n"
     ]
    },
    {
     "data": {
      "image/png": "[encoded data removed]",
      "text/plain": [
       "<Figure size 640x480 with 1 Axes>"
      ]
     },
     "metadata": {},
     "output_type": "display_data"
    }
   ],
   "source": [
    "# Find wrong prediction and display it\n",
    "\n",
    "model.eval()\n",
    "\n",
    "fig = plt.figure()\n",
    "plt.tight_layout()\n",
    "ax = plt.subplot(1, 1, 1)\n",
    "ax.axis('off')\n",
    "for i in range(len(dataset2)):\n",
    "    sample = dataset2[i]\n",
    "    \n",
    "    # predict the bounding box for a given image\n",
    "    data = sample['image']\n",
    "    assert isinstance(data, torch.Tensor)\n",
    "    data = data.reshape((1,)+data.shape) # shape must be (b,c,h,w)\n",
    "    data = data.to(device)\n",
    "    with torch.no_grad():\n",
    "        output,label_pred = model(data)\n",
    "    \n",
    "    target: np.ndarray[np.ndarray[np.float32,np.dtypes.Float32DType],np.dtypes.Float32DType] = sample['bbox'].reshape((1,4)) # type: ignore Declare target must be np.ndarray[np.ndarray[np.float32,np.dtypes.Float32DType],np.dtypes.Float32DType]\n",
    "    iou= IoU(output.cpu().numpy(), target, iou_threshold = 0.7)\n",
    "    \n",
    "    if not iou:\n",
    "        sample['pred'] = output[0].cpu().numpy()\n",
    "        show_bbox(**sample) # type: ignore can't differentiate arg types\n",
    "        label = (torch.argmax(label_pred)).cpu().numpy()\n",
    "        ax.set_title(f\"Sample #{i} \\n Label {sample['label']} \\n Pred: {label}\")\n",
    "        break\n",
    "\n",
    "plt.show()"
   ]
  },
  {
   "cell_type": "code",
   "execution_count": 17,
   "metadata": {},
   "outputs": [
    {
     "name": "stdout",
     "output_type": "stream",
     "text": [
      "\n",
      "y - save entire model (recommended if you are only using the model in this program)\n",
      "p - just model state_dict (https://pytorch.org/tutorials/beginner/saving_loading_models.html#what-is-a-state-dict)\n",
      "n - no\n",
      "help - this menu\n",
      "              \n"
     ]
    }
   ],
   "source": [
    "while True: # prompt to save file\n",
    "    save_input = input(\"Save model? (y/p/n/help)\").lower()\n",
    "    if save_input == 'help':\n",
    "        print(\"\"\"\n",
    "y - save entire model (recommended if you are only using the model in this program)\n",
    "p - just model state_dict (https://pytorch.org/tutorials/beginner/saving_loading_models.html#what-is-a-state-dict)\n",
    "n - no\n",
    "help - this menu\n",
    "              \"\"\")\n",
    "    elif save_input == 'y':\n",
    "        path = save_file('model (*.pt,*.pth)|*.pt;*.pth','Select where to save model', 'model.pt')\n",
    "        if isinstance(path, str):\n",
    "            save(model,path)\n",
    "            break\n",
    "    elif save_input == 'p':\n",
    "        path = save_file('model (*.pt,*.pth)|*.pt;*.pth','Select where to save model state_dict', 'model_state_dict.pt')\n",
    "        if isinstance(path, str):\n",
    "            save(model.state_dict(),path)\n",
    "            break\n",
    "    elif save_input == 'n':\n",
    "        break"
   ]
  },
  {
   "cell_type": "code",
   "execution_count": 18,
   "metadata": {},
   "outputs": [
    {
     "name": "stderr",
     "output_type": "stream",
     "text": [
      "<cell>41: \u001b[1m\u001b[91merror:\u001b[0m Name \u001b[0m\u001b[1m\"display\"\u001b[0m is not defined  \u001b[0m\u001b[93m[name-defined]\u001b[0m\n"
     ]
    },
    {
     "name": "stdout",
     "output_type": "stream",
     "text": [
      "You may need https://www.dafont.com/linux-libertine.font installed to view!\n"
     ]
    },
    {
     "data": {
      "image/png": "[encoded data removed]",
      "text/plain": [
       "<graphviz.graphs.Digraph at 0x1cd6c7d3ee0>"
      ]
     },
     "metadata": {},
     "output_type": "display_data"
    }
   ],
   "source": [
    "try:\n",
    "    wildcard_list = \"\"\"\n",
    "Portable Network Graphics (*.png)|*.png|\n",
    "Joint Photographic Experts Group (*.jpg,*.jpeg,*.jpe)|*.jpg;*.jpeg;*.jpe|\n",
    "WebP (*.webp)|*.webp|\n",
    "Portable Document Format (*.pdf)|*.pdf|\n",
    "Graphviz Language (*.dot,*.canon,*.gv,*.xdot,*.xdot1.2,*.xdot1.4)|*.dot;*.canon;*.gv;*.xdot;*.xdot1.2;*.xdot1.4|\n",
    "JavaScript Object Notation (*.json,*.json0,*.dot_json,*.xdot_json)|*.json;*.json0;*.dot_json;*.xdot_json|\n",
    "Graphics Interchange Format (*.gif)|*.gif|\n",
    "Windows Bitmap (*.bmp)|*.bmp|\n",
    "Apple Core Graphics (*.cgimage)|*.cgimage|\n",
    "Windows Icon (*.ico)|*.ico|\n",
    "Encapsulated PostScript (*.eps)|*.eps|\n",
    "OpenEXR (*.exr)|*.exr|\n",
    "Xfig (*.fig)|*.fig|\n",
    "LibGD (*.gd,*.gd2)|*.gd;*.gd2|\n",
    "Formerly GTK+ / GIMP ToolKit (*.gtk)|*.gtk|\n",
    "ImageMap (*.imap,*.imap_np,*.ismap,*.cmap,*.cmapx,*.cmapx_np)|*.imap;*.imap_np;*.ismap;*.cmap;*.cmapx;*.cmapx_np|\n",
    "JPEG 2000 (*.jp2)|*.jp2|\n",
    "Brian Kernighan's Diagram Language (*.pic)|*.pic|\n",
    "Apple PICT (*.pct,*.pict)|*.pct;*.pict|\n",
    "Simple, line-based language (*.plain,*.plain-ext)|*.plain;*.plain-ext|\n",
    "Persistence of Vision Raytracer (*.pov)|*.pov|\n",
    "Adobe PostScript (*.ps)|*.ps|\n",
    "Adobe PostScript for Portable Document Format (*.ps2)|*.ps2|\n",
    "Photoshop (*.psd)|*.psd|\n",
    "Silicon Graphics Image (*.sgi)|*.sgi|\n",
    "Scalable Vector Graphics (*.svg,*.svgz)|*.svg;*.svgz|\n",
    "Truevision TARGA (*.tga)|*.tga|\n",
    "Tag Image File Format (*.tif,*.tiff)|*.tif;*.tiff|\n",
    "Tcl/Tk (*.tk)|*.tk|\n",
    "Vector Markup Language (*.vml,*.vmlz)|*.vml;*.vmlz|\n",
    "Virtual Reality Modeling Language (*.vrml)|*.vrml|\n",
    "Wireless Bitmap (*.wbmp)|*.wbmp|\n",
    "X11 Window (*.xlib,*.x11)|*.xlib;*.x11\n",
    "\"\"\".replace('\\n','')\n",
    "\n",
    "\n",
    "    print(\"You may need https://www.dafont.com/linux-libertine.font installed to view!\")\n",
    "    graph = draw_graph(model, input_size=torch.Size([32, 1, 28, 28]))\n",
    "    display(graph.visual_graph)\n",
    "    if input(\"Do you want to save the graph? (y/n)\").lower() == 'y': #NOTE: match not added in this ver of python :(\n",
    "        path = save_file(wildcard_list, 'Select where to save graph', 'model_graph.png')\n",
    "        if isinstance(path, str):\n",
    "            path, ext = os.path.splitext(path)\n",
    "            graph.visual_graph.render(path,format=ext.lstrip('.'),cleanup=True)\n",
    "except NameError:\n",
    "    raise NotImplementedError\n",
    "    make_dot(model, params=dict(list(model.named_parameters())), show_attrs=True, show_saved=True) # FIXME: Dosent work :P"
   ]
  },
  {
   "cell_type": "code",
   "execution_count": 19,
   "metadata": {},
   "outputs": [
    {
     "data": {
      "text/plain": [
       "'C:\\\\Users\\\\carte\\\\OneDrive\\\\Desktop\\\\Python code\\\\id tech\\\\model_graph'"
      ]
     },
     "execution_count": 19,
     "metadata": {},
     "output_type": "execute_result"
    }
   ],
   "source": [
    "path"
   ]
  },
  {
   "cell_type": "code",
   "execution_count": 20,
   "metadata": {},
   "outputs": [
    {
     "data": {
      "text/plain": [
       "55"
      ]
     },
     "execution_count": 20,
     "metadata": {},
     "output_type": "execute_result"
    }
   ],
   "source": [
    "len(['png', 'jpg', 'jpeg', 'jpe', 'webp', 'pdf', 'dot', 'canon', 'gv', 'xdot', 'xdot1.2', 'xdot1.4', 'json', 'json0', 'dot_json', 'xdot_json', 'gif', 'bmp', 'cgimage', 'ico', 'eps', 'exr', 'fig', 'gd', 'gd2', 'gtk', 'imap', 'imap_np', 'ismap', 'cmap', 'cmapx', 'cmapx_np', 'jp2', 'pic', 'pct', 'pict', 'plain', 'plain-ext', 'pov', 'ps', 'ps2', 'psd', 'sgi', 'svg', 'svgz', 'tga', 'tif', 'tiff', 'tk', 'vml', 'vmlz', 'vrml', 'wbmp', 'xlib', 'x11'])"
   ]
  }
 ],
 "metadata": {
  "accelerator": "GPU",
  "colab": {
   "collapsed_sections": [],
   "name": "CNN_MNIST_Localization - Part1 - Aditya Rana .ipynb",
   "provenance": []
  },
  "kernelspec": {
   "display_name": "Python 3",
   "language": "python",
   "name": "python3"
  },
  "language_info": {
   "codemirror_mode": {
    "name": "ipython",
    "version": 3
   },
   "file_extension": ".py",
   "mimetype": "text/x-python",
   "name": "python",
   "nbconvert_exporter": "python",
   "pygments_lexer": "ipython3",
   "version": "3.9.19"
  }
 },
 "nbformat": 4,
 "nbformat_minor": 1
}
