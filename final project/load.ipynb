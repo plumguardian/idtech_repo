{
 "cells": [
  {
   "cell_type": "markdown",
   "metadata": {
    "id": "tktvdabC18-s"
   },
   "source": [
    "\n",
    "# Convolutional Neural Networks for Object Localization"
   ]
  },
  {
   "cell_type": "markdown",
   "metadata": {
    "id": "niJxVteL18-y"
   },
   "source": [
    "In this notebook we will learn how to implement a convolutional neural network (CNN) regressor to localize digits of the MNIST dataset. We will use the Pytorch library for the implementation, compilation and training of the model.\n",
    "\n",
    "The input to our model is a $64 \\times 64$ image with a MNIST digit at any location, and the output of the model are four real numbers that define a bounding box (x, y, width, and height) around the digit."
   ]
  },
  {
   "cell_type": "markdown",
   "metadata": {
    "id": "921un8bjnFV4"
   },
   "source": [
    "<table>\n",
    "    <tr>\n",
    "        <td><img src=\"data:image/png;base64, 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\"></td>\n",
    "        <td><span style=\"font-size:36px\">&#10142;</span></td>\n",
    "        <td><img src=\"data:image/png;base64, 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\"></td>\n",
    "    </tr>\n",
    "</table>"
   ]
  },
  {
   "cell_type": "markdown",
   "metadata": {
    "id": "exltrVHJnFV8"
   },
   "source": [
    "### Import necessary modules"
   ]
  },
  {
   "cell_type": "code",
   "execution_count": 44,
   "metadata": {
    "id": "azXeT9WlnFWA"
   },
   "outputs": [
    {
     "name": "stdout",
     "output_type": "stream",
     "text": [
      "cuda\n"
     ]
    }
   ],
   "source": [
    "from __future__ import annotations # support for union type hinting before python 3.10\n",
    "\n",
    "import torch\n",
    "import torch.nn as nn\n",
    "from torch import load\n",
    "from typing import Callable\n",
    "import pygame\n",
    "\n",
    "import numpy as np\n",
    "import matplotlib.pyplot as plt\n",
    "try:\n",
    "    from torchview import draw_graph\n",
    "except ModuleNotFoundError:\n",
    "    from torchviz import make_dot\n",
    "\n",
    "import graphviz\n",
    "graphviz.set_jupyter_format('png')\n",
    "import os\n",
    "\n",
    "import wx\n",
    "\n",
    "import cv2\n",
    "\n",
    "# setup cuda\n",
    "use_cuda = torch.cuda.is_available()\n",
    "device = torch.device(\"cuda\" if use_cuda else \"cpu\")\n",
    "print(device)"
   ]
  },
  {
   "cell_type": "code",
   "execution_count": 45,
   "metadata": {},
   "outputs": [
    {
     "name": "stderr",
     "output_type": "stream",
     "text": [
      "<cell>22: \u001b[1m\u001b[91merror:\u001b[0m Name \u001b[0m\u001b[1m\"fileDialog\"\u001b[0m already defined on line 21  \u001b[0m\u001b[93m[no-redef]\u001b[0m\n",
      "<cell>30: \u001b[1m\u001b[91merror:\u001b[0m Name \u001b[0m\u001b[1m\"path\"\u001b[0m already defined on line 28  \u001b[0m\u001b[93m[no-redef]\u001b[0m\n",
      "<cell>50: \u001b[1m\u001b[91merror:\u001b[0m Name \u001b[0m\u001b[1m\"fileDialog\"\u001b[0m already defined on line 49  \u001b[0m\u001b[93m[no-redef]\u001b[0m\n"
     ]
    }
   ],
   "source": [
    "def get_file_path(wildcard: str, message: str = wx.FileSelectorPromptStr, multipleFiles: bool = False) -> str | list[str] | None:\n",
    "    \"\"\"\n",
    "    Opens a file dialog and allows user to select a file.\n",
    "\n",
    "    Args:\n",
    "        wildcard (str): e.g. \"*.png\" for 1 file extention or \"pictures (*.jpeg,*.png)|*.jpeg;*.png\" for multiple.\n",
    "        message (str, optional): Title of the window. Defaults to wx.FileSelectorPromptStr.\n",
    "        multipleFiles (bool, optional): Allows selecting more than 1 file. Defaults to False.\n",
    "\n",
    "    Returns:\n",
    "        str | list[str] | None: Returns path of selected file, list of paths for selected files, or None if no files selected.\n",
    "    \"\"\"  \n",
    "\n",
    "    app = wx.App()\n",
    "    \n",
    "    if multipleFiles:\n",
    "        style = wx.FD_OPEN | wx.FD_FILE_MUST_EXIST | wx.FD_MULTIPLE\n",
    "    else:\n",
    "        style = wx.FD_OPEN | wx.FD_FILE_MUST_EXIST\n",
    "\n",
    "    with wx.FileDialog(None, message, wildcard=wildcard, style=style) as fileDialog:\n",
    "        fileDialog: wx.FileDialog\n",
    "\n",
    "        if fileDialog.ShowModal() == wx.ID_CANCEL:\n",
    "            return None\n",
    "\n",
    "        try:\n",
    "            path: str | list[str] | None = fileDialog.GetPath()\n",
    "        except:\n",
    "            path: str | list[str] | None  = fileDialog.GetPaths()\n",
    "\n",
    "        return path\n",
    "\n",
    "def save_file(wildcard: str, message: str = wx.FileSelectorPromptStr, defaultFileName: str = wx.EmptyString) -> str | None:\n",
    "    \"\"\"\n",
    "    Prompts a user to save a file.\n",
    "\n",
    "    Args:\n",
    "        wildcard (str): e.g. \"*.png\" for 1 file extention or \"pictures (*.jpeg,*.png)|*.jpeg;*.png\" for multiple.\n",
    "        message (str, optional): Title of the window. Defaults to wx.FileSelectorPromptStr.\n",
    "        defaultFileName (str, optional): What to put in the file name text box. Defaults to wx.EmptyString.\n",
    "\n",
    "    Returns:\n",
    "        str | None: Returns path to where the user would like to save, or None if the user canceled.\n",
    "    \"\"\"    \n",
    "    \n",
    "    app = wx.App()\n",
    "    \n",
    "    with wx.FileDialog(None, message, defaultFile=defaultFileName, wildcard=wildcard, style=wx.FD_SAVE | wx.FD_OVERWRITE_PROMPT) as fileDialog:\n",
    "        fileDialog: wx.FileDialog\n",
    "\n",
    "        if fileDialog.ShowModal() == wx.ID_CANCEL:\n",
    "            return None\n",
    "\n",
    "        return fileDialog.GetPath()"
   ]
  },
  {
   "cell_type": "code",
   "execution_count": 46,
   "metadata": {
    "colab": {
     "base_uri": "https://localhost:8080/",
     "height": 206
    },
    "id": "4aAtRuL-18-2",
    "outputId": "06ddade0-cac7-47bb-94a6-3d29a916f33a"
   },
   "outputs": [
    {
     "name": "stderr",
     "output_type": "stream",
     "text": [
      "<cell>22: \u001b[1m\u001b[91merror:\u001b[0m Unsupported operand types for * (\u001b[0m\u001b[1m\"None\"\u001b[0m and \u001b[0m\u001b[1m\"list[int]\"\u001b[0m)  \u001b[0m\u001b[93m[operator]\u001b[0m\n",
      "<cell>22: \u001b[94mnote:\u001b[0m Left operand is of type \u001b[0m\u001b[1m\"Optional[ndarray[floating[_32Bit], dtype[floating[_32Bit]]]]\"\u001b[0m\u001b[0m\n",
      "<cell>22: \u001b[1m\u001b[91merror:\u001b[0m Incompatible types in assignment (expression has type \u001b[0m\u001b[1m\"Union[ndarray[Any, dtype[floating[Any]]], list[int]]\"\u001b[0m, variable has type \u001b[0m\u001b[1m\"Optional[ndarray[floating[_32Bit], dtype[floating[_32Bit]]]]\"\u001b[0m)  \u001b[0m\u001b[93m[assignment]\u001b[0m\n",
      "<cell>24: \u001b[1m\u001b[91merror:\u001b[0m Value of type \u001b[0m\u001b[1m\"Optional[ndarray[floating[_32Bit], dtype[floating[_32Bit]]]]\"\u001b[0m is not indexable  \u001b[0m\u001b[93m[index]\u001b[0m\n",
      "<cell>25: \u001b[1m\u001b[91merror:\u001b[0m Value of type \u001b[0m\u001b[1m\"Optional[ndarray[floating[_32Bit], dtype[floating[_32Bit]]]]\"\u001b[0m is not indexable  \u001b[0m\u001b[93m[index]\u001b[0m\n"
     ]
    }
   ],
   "source": [
    "def show_bbox(image: torch.Tensor, bbox: np.ndarray[np.float32,np.dtypes.Float32DType], pred: (np.ndarray[np.float32,np.dtypes.Float32DType] | None) = None,**_) -> None: #NOTE: **_ ignores extra args\n",
    "    \"\"\"\n",
    "    Shows bbox of an image. Also shows predicted bbox if supplied.\n",
    "\n",
    "    Args:\n",
    "        image (torch.Tensor): The image\n",
    "        bbox (np.ndarray[np.float32,np.dtypes.Float32DType]): The image bbox\n",
    "        pred (np.ndarray[np.float32,np.dtypes.Float32DType]  |  None, optional): The predicted bbox. Defaults to None.\n",
    "        **_: Discards extra arguments - Ignore this\n",
    "    \"\"\"\n",
    "    image = image.squeeze()\n",
    "    plt.imshow(image)\n",
    "\n",
    "    # plot the ground truth bounding box\n",
    "    imgsize = image.shape\n",
    "    bbox *= [imgsize[1],imgsize[0],imgsize[0],imgsize[1]]\n",
    "    plt.plot([bbox[0],bbox[0]+bbox[3],bbox[0]+bbox[3],bbox[0],bbox[0]],\n",
    "             [bbox[1],bbox[1],bbox[1]+bbox[2],bbox[1]+bbox[2],bbox[1]], c='r')\n",
    "\n",
    "    if pred != None: \n",
    "        # plot the predicted bounding box (if provided)\n",
    "        pred *= [imgsize[1],imgsize[0],imgsize[0],imgsize[1]]\n",
    "        assert pred != None\n",
    "        plt.plot([pred[0],pred[0]+pred[3],pred[0]+pred[3],pred[0],pred[0]],\n",
    "                 [pred[1],pred[1],pred[1]+pred[2],pred[1]+pred[2],pred[1]], c='b')\n",
    "    \n",
    "# fig = plt.figure()\n",
    "# for i in range(len(dataset1)):\n",
    "#     sample = dataset1[i]\n",
    "#     print(i, sample['image'].shape, sample['bbox'].shape)\n",
    "#     ax = plt.subplot(1, 4, i + 1)\n",
    "#     plt.tight_layout()\n",
    "#     ax.set_title(f\"Sample #{i} \\n Label{sample['label']}\")\n",
    "#     ax.axis('off')\n",
    "#     show_bbox(**sample) # type: ignore can't differentiate arg types\n",
    "\n",
    "#     if i == 3:\n",
    "#         plt.show()\n",
    "#         break"
   ]
  },
  {
   "cell_type": "code",
   "execution_count": 47,
   "metadata": {},
   "outputs": [],
   "source": [
    "class Net(nn.Module):\n",
    "    def __init__(self):\n",
    "        super(Net, self).__init__()\n",
    "        self.backbone = nn.Sequential(\n",
    "          nn.Conv2d( 1, 8, 5, padding=2,stride=2), nn.ReLU(), #14\n",
    "          nn.Conv2d( 8,16, 3, padding=1,stride=2), nn.ReLU(), # 7\n",
    "          nn.Conv2d(16,32, 3, padding=1,stride=2), nn.ReLU(), # 4\n",
    "          nn.Conv2d(32,32, 3, padding=1,stride=2), nn.ReLU(), # 2\n",
    "          nn.AdaptiveAvgPool2d(1),\n",
    "          nn.Flatten(),\n",
    "          # nn.Linear(32,4),\n",
    "          # nn.Sigmoid()\n",
    "          )\n",
    "        \n",
    "        self.bbox = nn.Sequential(nn.Linear(32,4), nn.Sigmoid())\n",
    "        self.label = nn.Sequential(nn.Linear(32, 10))\n",
    "\n",
    "    def forward(self, x): #NOTE: No type checking. Read pytorch docs.\n",
    "        features = self.backbone(x)\n",
    "        bbox = self.bbox(features)\n",
    "        label = self.label(features)\n",
    "        return bbox, label\n",
    "\n",
    "def get_model():\n",
    "    return Net()"
   ]
  },
  {
   "cell_type": "code",
   "execution_count": 48,
   "metadata": {},
   "outputs": [],
   "source": [
    "while True: # prompt to load file\n",
    "    path = get_file_path('model (*.pt,*.pth)|*.pt;*.pth','Select model')\n",
    "    if isinstance(path,str):\n",
    "        model = get_model().to(device)\n",
    "        # model = load(path)\n",
    "        model = load(path, map_location=device)\n",
    "        break"
   ]
  },
  {
   "cell_type": "code",
   "execution_count": 49,
   "metadata": {},
   "outputs": [
    {
     "name": "stderr",
     "output_type": "stream",
     "text": [
      "<cell>33: \u001b[1m\u001b[91merror:\u001b[0m Argument 1 to \u001b[0m\u001b[1m\"load\"\u001b[0m has incompatible type \u001b[0m\u001b[1m\"Optional[str]\"\u001b[0m; expected \u001b[0m\u001b[1m\"Union[Union[str, bytes, PathLike[str], PathLike[bytes]], IO[bytes], IO[str]]\"\u001b[0m  \u001b[0m\u001b[93m[arg-type]\u001b[0m\n",
      "<cell>46: \u001b[1m\u001b[91merror:\u001b[0m Name \u001b[0m\u001b[1m\"running\"\u001b[0m already defined on line 40  \u001b[0m\u001b[93m[no-redef]\u001b[0m\n",
      "<cell>49: \u001b[1m\u001b[91merror:\u001b[0m Name \u001b[0m\u001b[1m\"running\"\u001b[0m already defined on line 40  \u001b[0m\u001b[93m[no-redef]\u001b[0m\n",
      "<cell>54: \u001b[1m\u001b[91merror:\u001b[0m Name \u001b[0m\u001b[1m\"mouse_draw_down\"\u001b[0m already defined on line 36  \u001b[0m\u001b[93m[no-redef]\u001b[0m\n",
      "<cell>58: \u001b[1m\u001b[91merror:\u001b[0m Name \u001b[0m\u001b[1m\"mouse_erase_down\"\u001b[0m already defined on line 37  \u001b[0m\u001b[93m[no-redef]\u001b[0m\n",
      "<cell>61: \u001b[1m\u001b[91merror:\u001b[0m Name \u001b[0m\u001b[1m\"mouse_draw_down\"\u001b[0m already defined on line 36  \u001b[0m\u001b[93m[no-redef]\u001b[0m\n",
      "<cell>63: \u001b[1m\u001b[91merror:\u001b[0m Name \u001b[0m\u001b[1m\"mouse_erase_down\"\u001b[0m already defined on line 37  \u001b[0m\u001b[93m[no-redef]\u001b[0m\n",
      "<cell>73: \u001b[1m\u001b[91merror:\u001b[0m Name \u001b[0m\u001b[1m\"x\"\u001b[0m already defined on line 68  \u001b[0m\u001b[93m[no-redef]\u001b[0m\n",
      "<cell>74: \u001b[1m\u001b[91merror:\u001b[0m Name \u001b[0m\u001b[1m\"y\"\u001b[0m already defined on line 69  \u001b[0m\u001b[93m[no-redef]\u001b[0m\n"
     ]
    }
   ],
   "source": [
    "def paint_program(window_title: str, window_icon_path: str | None, width: int, height: int, scale: int, fps: int = 60, blank_color: tuple[int,int,int] = (0, 0, 0), draw_color: tuple[int,int,int] = (255, 255, 255), init_pygame: bool = False, quit_pygame: bool = False) -> np.ndarray:\n",
    "    \"\"\"\n",
    "    Opens a paint program and lets the user draw.\n",
    "    LC: draw\n",
    "    RC: erase\n",
    "    MC: clear\n",
    "    ESC/quit: save  \n",
    "\n",
    "    Args:\n",
    "        window_title (str): The window title.\n",
    "        window_icon_path (str | None): The window icon's path.\n",
    "        width (int): How many pixels on the width?\n",
    "        height (int): How many pixels on the height?\n",
    "        scale (int): What should width and height be multiplied by before being shown on the screen?\n",
    "        fps (int, optional): Frames Per Second. Defaults to 60.\n",
    "        blank_color (tuple[int,int,int], optional): The default/erase color in RGB. Defaults to (0, 0, 0).\n",
    "        draw_color (tuple[int,int,int], optional): The draw color in RGB. Defaults to (255, 255, 255).\n",
    "        init_pygame (bool, optional): Should it run pygame.init()?. Defaults to False.\n",
    "        quit_pygame (bool, optional): Should it run pygame.quit()?. Defaults to False.\n",
    "\n",
    "    Returns:\n",
    "        np.ndarray: An array of the pixel RGB values of shape (width, height, 3). To make greyscale, add .mean(axis=2) to the output\n",
    "    \"\"\"    \n",
    "    \n",
    "    if init_pygame:\n",
    "        pygame.init()\n",
    "\n",
    "    screen: pygame.surface.Surface = pygame.display.set_mode((width*scale, height*scale))\n",
    "    fpsClock = pygame.time.Clock()\n",
    "\n",
    "    pygame.display.set_caption(window_title)\n",
    "    if window_icon_path != None:\n",
    "        pygame.display.set_icon(pygame.image.load(window_icon_path))\n",
    "\n",
    "    # Track mouse button states\n",
    "    mouse_draw_down: bool = False\n",
    "    mouse_erase_down: bool = False\n",
    "\n",
    "    # Game loop\n",
    "    running: bool = True\n",
    "    screen.fill(blank_color)\n",
    "\n",
    "    while running:\n",
    "        for event in pygame.event.get():\n",
    "            if event.type == pygame.QUIT:\n",
    "                running: bool = False\n",
    "            elif event.type == pygame.KEYDOWN:\n",
    "                if event.key == pygame.K_ESCAPE:\n",
    "                    running: bool = False\n",
    "            \n",
    "            # Check for mouse button press/release\n",
    "            if event.type == pygame.MOUSEBUTTONDOWN:\n",
    "                if event.button == 1:\n",
    "                    mouse_draw_down: bool = True\n",
    "                elif event.button == 2:\n",
    "                    screen.fill(blank_color)\n",
    "                elif event.button == 3:\n",
    "                    mouse_erase_down: bool = True\n",
    "            elif event.type == pygame.MOUSEBUTTONUP:\n",
    "                if event.button == 1:\n",
    "                    mouse_draw_down: bool = False\n",
    "                if event.button == 3:\n",
    "                    mouse_erase_down: bool = False\n",
    "                    \n",
    "            # Update drawing based on mouse movement\n",
    "            if mouse_draw_down:\n",
    "                x, y = pygame.mouse.get_pos()\n",
    "                x: int = np.floor(x / scale) * scale\n",
    "                y: int = np.floor(y / scale) * scale\n",
    "                pygame.draw.rect(screen, draw_color, (x, y, scale, scale))\n",
    "            elif mouse_erase_down:\n",
    "                x, y = pygame.mouse.get_pos()\n",
    "                x: int = np.floor(x / scale) * scale\n",
    "                y: int = np.floor(y / scale) * scale\n",
    "                pygame.draw.rect(screen, blank_color, (x, y, scale, scale))\n",
    "                \n",
    "        pygame.display.flip()\n",
    "        fpsClock.tick(fps)\n",
    "\n",
    "    pixels: np.ndarray = pygame.surfarray.array3d(screen)\n",
    "    grid_pixels = pixels[::scale, ::scale]\n",
    "\n",
    "    if quit_pygame:\n",
    "        pygame.quit()\n",
    "\n",
    "    return np.swapaxes(grid_pixels,0,1)"
   ]
  },
  {
   "cell_type": "code",
   "execution_count": 50,
   "metadata": {},
   "outputs": [
    {
     "name": "stderr",
     "output_type": "stream",
     "text": [
      "<cell>48: \u001b[1m\u001b[91merror:\u001b[0m Name \u001b[0m\u001b[1m\"display\"\u001b[0m is not defined  \u001b[0m\u001b[93m[name-defined]\u001b[0m\n"
     ]
    }
   ],
   "source": [
    "def save_dot() -> None:\n",
    "    \"\"\"\n",
    "    Saves graph.\n",
    "\n",
    "    Raises:\n",
    "        NotImplementedError: Torchviz not supported *yet*\n",
    "    \"\"\"    \n",
    "    try:\n",
    "        wildcard_list = \"\"\"\n",
    "    Portable Network Graphics (*.png)|*.png|\n",
    "    Joint Photographic Experts Group (*.jpg,*.jpeg,*.jpe)|*.jpg;*.jpeg;*.jpe|\n",
    "    WebP (*.webp)|*.webp|\n",
    "    Portable Document Format (*.pdf)|*.pdf|\n",
    "    Graphviz Language (*.dot,*.canon,*.gv,*.xdot,*.xdot1.2,*.xdot1.4)|*.dot;*.canon;*.gv;*.xdot;*.xdot1.2;*.xdot1.4|\n",
    "    JavaScript Object Notation (*.json,*.json0,*.dot_json,*.xdot_json)|*.json;*.json0;*.dot_json;*.xdot_json|\n",
    "    Graphics Interchange Format (*.gif)|*.gif|\n",
    "    Windows Bitmap (*.bmp)|*.bmp|\n",
    "    Apple Core Graphics (*.cgimage)|*.cgimage|\n",
    "    Windows Icon (*.ico)|*.ico|\n",
    "    Encapsulated PostScript (*.eps)|*.eps|\n",
    "    OpenEXR (*.exr)|*.exr|\n",
    "    Xfig (*.fig)|*.fig|\n",
    "    LibGD (*.gd,*.gd2)|*.gd;*.gd2|\n",
    "    Formerly GTK+ / GIMP ToolKit (*.gtk)|*.gtk|\n",
    "    ImageMap (*.imap,*.imap_np,*.ismap,*.cmap,*.cmapx,*.cmapx_np)|*.imap;*.imap_np;*.ismap;*.cmap;*.cmapx;*.cmapx_np|\n",
    "    JPEG 2000 (*.jp2)|*.jp2|\n",
    "    Brian Kernighan's Diagram Language (*.pic)|*.pic|\n",
    "    Apple PICT (*.pct,*.pict)|*.pct;*.pict|\n",
    "    Simple, line-based language (*.plain,*.plain-ext)|*.plain;*.plain-ext|\n",
    "    Persistence of Vision Raytracer (*.pov)|*.pov|\n",
    "    Adobe PostScript (*.ps)|*.ps|\n",
    "    Adobe PostScript for Portable Document Format (*.ps2)|*.ps2|\n",
    "    Photoshop (*.psd)|*.psd|\n",
    "    Silicon Graphics Image (*.sgi)|*.sgi|\n",
    "    Scalable Vector Graphics (*.svg,*.svgz)|*.svg;*.svgz|\n",
    "    Truevision TARGA (*.tga)|*.tga|\n",
    "    Tag Image File Format (*.tif,*.tiff)|*.tif;*.tiff|\n",
    "    Tcl/Tk (*.tk)|*.tk|\n",
    "    Vector Markup Language (*.vml,*.vmlz)|*.vml;*.vmlz|\n",
    "    Virtual Reality Modeling Language (*.vrml)|*.vrml|\n",
    "    Wireless Bitmap (*.wbmp)|*.wbmp|\n",
    "    X11 Window (*.xlib,*.x11)|*.xlib;*.x11\n",
    "    \"\"\".replace('\\n','')\n",
    "\n",
    "\n",
    "        print(\"You may need https://www.dafont.com/linux-libertine.font installed to view!\")\n",
    "        graph = draw_graph(model, input_size=torch.Size([32, 1, 28, 28]))\n",
    "        display(graph.visual_graph)\n",
    "        if input(\"Do you want to save the graph? (y/n)\").lower() == 'y': #NOTE: match not added in this ver of python :(\n",
    "            path = save_file(wildcard_list, 'Select where to save graph', 'model_graph.png')\n",
    "            if isinstance(path, str):\n",
    "                path, ext = os.path.splitext(path)\n",
    "                graph.visual_graph.render(path,format=ext.lstrip('.'),cleanup=True)\n",
    "    except NameError:\n",
    "        raise NotImplementedError\n",
    "        make_dot(model, params=dict(list(model.named_parameters())), show_attrs=True, show_saved=True) # FIXME: Dosent work :P"
   ]
  },
  {
   "cell_type": "code",
   "execution_count": 51,
   "metadata": {},
   "outputs": [
    {
     "name": "stdout",
     "output_type": "stream",
     "text": [
      "tensor([7])\n",
      "You may have to 'exit' the program to see the bbox guess\n"
     ]
    },
    {
     "data": {
      "image/png": "[encoded data removed]",
      "text/plain": [
       "<Figure size 640x480 with 1 Axes>"
      ]
     },
     "metadata": {},
     "output_type": "display_data"
    }
   ],
   "source": [
    "while True:\n",
    "    command = input(\"What to do? (help)\").lower()\n",
    "    if command == 'help':\n",
    "        print(\"\"\"\n",
    "graph - lets user save graph of model\n",
    "paint - open paint program\n",
    "exit - exit program\n",
    "\"\"\")\n",
    "    if command == 'graph':\n",
    "        save_dot()\n",
    "    if command == 'paint':\n",
    "        a = paint_program('Close to predict', None, 64,64,5,init_pygame=True,quit_pygame=True)\n",
    "        b = cv2.cvtColor(a, cv2.COLOR_BGR2GRAY)\n",
    "        c = torch.Tensor(b.reshape(1,1,64,64)).to(device)\n",
    "        c /= 255\n",
    "        model.eval()\n",
    "        output, label_pred = model(c)\n",
    "        output: torch.Tensor\n",
    "        label_pred: torch.Tensor\n",
    "        print(torch.argmax(label_pred.cpu(),dim=1))\n",
    "        print(\"You may have to 'exit' the program to see the bbox guess\")\n",
    "        show_bbox(b,output[0].cpu().detach().numpy())\n",
    "    if command == 'exit':\n",
    "        break"
   ]
  }
 ],
 "metadata": {
  "accelerator": "GPU",
  "colab": {
   "collapsed_sections": [],
   "name": "CNN_MNIST_Localization - Part1 - Aditya Rana .ipynb",
   "provenance": []
  },
  "kernelspec": {
   "display_name": "Python 3",
   "language": "python",
   "name": "python3"
  },
  "language_info": {
   "codemirror_mode": {
    "name": "ipython",
    "version": 3
   },
   "file_extension": ".py",
   "mimetype": "text/x-python",
   "name": "python",
   "nbconvert_exporter": "python",
   "pygments_lexer": "ipython3",
   "version": "3.9.19"
  }
 },
 "nbformat": 4,
 "nbformat_minor": 1
}
